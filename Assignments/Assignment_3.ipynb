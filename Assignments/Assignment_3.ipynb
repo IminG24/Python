{
 "cells": [
  {
   "cell_type": "markdown",
   "id": "6a2cdea1",
   "metadata": {},
   "source": [
    "## 1. Why are functions advantageous to have in your programs?\n",
    "\n",
    "-------------------------------------------------------------------------------------------------------------------------------\n",
    "\n",
    "**Answer:**  \n",
    "\n",
    "For code resuablity<br>\n",
    "For easier code debugging<br>\n",
    "For writing simple and less code"
   ]
  },
  {
   "cell_type": "markdown",
   "id": "0315ddb1",
   "metadata": {},
   "source": [
    "## 2. When does the code in a function run: when it's specified or when it's called?\n",
    "    \n",
    "-------------------------------------------------------------------------------------------------------------------------------\n",
    "\n",
    "**Answer:**  \n",
    "\n",
    "when the function is called the code inside the function starts execution from start to end."
   ]
  },
  {
   "cell_type": "markdown",
   "id": "a154d3cb",
   "metadata": {},
   "source": [
    "## 3. What statement creates a function?\n",
    "\n",
    "-------------------------------------------------------------------------------------------------------------------------------\n",
    "\n",
    "**Answer:**  \n",
    "\n",
    "def keyword"
   ]
  },
  {
   "cell_type": "markdown",
   "id": "2c45ee74",
   "metadata": {},
   "source": [
    "## 4. What is the difference between a function and a function call?\n",
    "\n",
    "-------------------------------------------------------------------------------------------------------------------------------\n",
    "\n",
    "**Answer:**  \n",
    "\n",
    "function is a block of reusable code while functional call is used to invoke a function written."
   ]
  },
  {
   "cell_type": "markdown",
   "id": "55a529b4",
   "metadata": {},
   "source": [
    "## 5. How many global scopes are there in a Python program? How many local scopes?\n",
    "\n",
    "-------------------------------------------------------------------------------------------------------------------------------\n",
    "\n",
    "**Answer:**  \n",
    "\n",
    "There is one global scope in a Python program, accessible throughout the entire program.\n",
    "The number of local scopes depends on the number of functions or code blocks within the program. Each function or code block creates its own local scope, which is temporary and exists only during its execution."
   ]
  },
  {
   "cell_type": "markdown",
   "id": "5e5be37c",
   "metadata": {},
   "source": [
    "## 6. What happens to variables in a local scope when the function call returns?\n",
    "\n",
    "-------------------------------------------------------------------------------------------------------------------------------\n",
    "\n",
    "**Answer:**  \n",
    "\n",
    "When a function is executed the local scope has been created where the local variables are stored, which are accessible inside the function. once the functional call is done, then the local scope is destroyed."
   ]
  },
  {
   "cell_type": "markdown",
   "id": "53a2044a",
   "metadata": {},
   "source": [
    "## 7. What is the concept of a return value? Is it possible to have a return value in an expression?\n",
    "\n",
    "-------------------------------------------------------------------------------------------------------------------------------\n",
    "\n",
    "**Answer:**  \n",
    "\n",
    "A return value is a value which is the returned output when the task of the function is completed.\n",
    "Yes it is possible to have a return value in an expression."
   ]
  },
  {
   "cell_type": "markdown",
   "id": "76698e3c",
   "metadata": {},
   "source": [
    "## 8. If a function does not have a return statement, what is the return value of a call to that function?\n",
    "\n",
    "-------------------------------------------------------------------------------------------------------------------------------\n",
    "\n",
    "**Answer:**  \n",
    "\n",
    "Will not return any value."
   ]
  },
  {
   "cell_type": "markdown",
   "id": "478ea7d3",
   "metadata": {},
   "source": [
    "## 9. How do you make a function variable refer to the global variable?\n",
    "\n",
    "-------------------------------------------------------------------------------------------------------------------------------\n",
    "\n",
    "**Answer:**  \n",
    "\n",
    "By using Global keyword"
   ]
  },
  {
   "cell_type": "markdown",
   "id": "0a7a3a29",
   "metadata": {},
   "source": [
    "## 10. What is the data type of None?\n",
    "\n",
    "-------------------------------------------------------------------------------------------------------------------------------\n",
    "\n",
    "**Answer:**  \n",
    "\n",
    "The None keyword is used to define a null value, or no value at all. None is not the same as 0, False, or an empty string. \n",
    "None is a data type of its own (NoneType). Python uses the keyword None to define null objects and variables."
   ]
  },
  {
   "cell_type": "markdown",
   "id": "353feb8e",
   "metadata": {},
   "source": [
    "## 11. What does the sentence import areallyourpetsnamederic do?\n",
    "\n",
    "-------------------------------------------------------------------------------------------------------------------------------\n",
    "\n",
    "**Answer:**  \n",
    "\n",
    "imports the module named: areallyourpetsnamederic "
   ]
  },
  {
   "cell_type": "markdown",
   "id": "f619ede3",
   "metadata": {},
   "source": [
    "## 12. If you had a bacon() feature in a spam module, what would you call it after importing spam?\n",
    "\n",
    "-------------------------------------------------------------------------------------------------------------------------------\n",
    "\n",
    "**Answer:**  \n",
    "\n",
    "spam.bacon()"
   ]
  },
  {
   "cell_type": "markdown",
   "id": "9407c9c3",
   "metadata": {},
   "source": [
    "## 13. What can you do to save a programme from crashing if it encounters an error?\n",
    "\n",
    "-------------------------------------------------------------------------------------------------------------------------------\n",
    "\n",
    "**Answer:**  \n",
    "\n",
    "By using exception handling technique, we can find the error without crashing."
   ]
  },
  {
   "cell_type": "markdown",
   "id": "7fd53090",
   "metadata": {},
   "source": [
    "## 14. What is the purpose of the try clause? What is the purpose of the except clause?\n",
    "\n",
    "-------------------------------------------------------------------------------------------------------------------------------\n",
    "\n",
    "**Answer:**  \n",
    "\n",
    "Try clause is used to test the block of code for errors. If any error found in try block the code executes to catch block which shows the error."
   ]
  }
 ],
 "metadata": {
  "kernelspec": {
   "display_name": "Python 3 (ipykernel)",
   "language": "python",
   "name": "python3"
  },
  "language_info": {
   "codemirror_mode": {
    "name": "ipython",
    "version": 3
   },
   "file_extension": ".py",
   "mimetype": "text/x-python",
   "name": "python",
   "nbconvert_exporter": "python",
   "pygments_lexer": "ipython3",
   "version": "3.9.12"
  }
 },
 "nbformat": 4,
 "nbformat_minor": 5
}
