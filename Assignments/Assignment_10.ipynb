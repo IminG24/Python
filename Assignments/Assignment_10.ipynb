{
 "cells": [
  {
   "cell_type": "markdown",
   "id": "6cccfb5c",
   "metadata": {},
   "source": [
    "## 1. What is the role of try and exception block?\n",
    "-------------------------------------------------------------------------------------------------------------------------------\n",
    "\n",
    "**Answer:**  \n",
    "\n",
    "The role of a try and except block in Python is to handle and manage exceptions that may occur during the execution of a program. Exceptions are errors that occur during the execution of code, and they can disrupt the normal flow of a program. The try and except block allows you to catch and handle these exceptions gracefully, preventing the program from crashing."
   ]
  },
  {
   "cell_type": "code",
   "execution_count": 1,
   "id": "86281aa9",
   "metadata": {},
   "outputs": [
    {
     "name": "stdout",
     "output_type": "stream",
     "text": [
      "Error: Division by zero occurred\n"
     ]
    }
   ],
   "source": [
    "try:\n",
    "    x = 10 / 0  # This division will raise a ZeroDivisionError\n",
    "except ZeroDivisionError:\n",
    "    print(\"Error: Division by zero occurred\")"
   ]
  },
  {
   "cell_type": "markdown",
   "id": "72c7a523",
   "metadata": {},
   "source": [
    "## 2. What is the syntax for a basic try-except block?\n",
    "\n",
    "-------------------------------------------------------------------------------------------------------------------------------\n",
    "\n",
    "**Answer:**"
   ]
  },
  {
   "cell_type": "code",
   "execution_count": 3,
   "id": "490bafe6",
   "metadata": {},
   "outputs": [
    {
     "name": "stdout",
     "output_type": "stream",
     "text": [
      "Enter a number: 4\n",
      "Enter another number: 6\n",
      "The result is: 0.6666666666666666\n"
     ]
    }
   ],
   "source": [
    "try:\n",
    "    # Code that may raise an exception\n",
    "    num1 = int(input(\"Enter a number: \"))\n",
    "    num2 = int(input(\"Enter another number: \"))\n",
    "    result = num1 / num2\n",
    "    print(\"The result is:\", result)\n",
    "except ValueError:\n",
    "    print(\"Invalid input. Please enter valid numbers.\")\n",
    "except ZeroDivisionError:\n",
    "    print(\"Error: Division by zero occurred.\")"
   ]
  },
  {
   "cell_type": "markdown",
   "id": "6fd040d0",
   "metadata": {},
   "source": [
    "## 3. What happens if an exception occurs inside a try block and there is no matching except block?\n",
    "\n",
    "-------------------------------------------------------------------------------------------------------------------------------\n",
    "\n",
    "**Answer:**\n",
    "\n",
    "If no except block is found in the program, the exception will result in an unhandled exception error, causing the program to terminate abruptly and display an error message."
   ]
  },
  {
   "cell_type": "code",
   "execution_count": 4,
   "id": "07275b20",
   "metadata": {},
   "outputs": [
    {
     "ename": "ZeroDivisionError",
     "evalue": "division by zero",
     "output_type": "error",
     "traceback": [
      "\u001b[1;31m---------------------------------------------------------------------------\u001b[0m",
      "\u001b[1;31mZeroDivisionError\u001b[0m                         Traceback (most recent call last)",
      "Input \u001b[1;32mIn [4]\u001b[0m, in \u001b[0;36m<cell line: 1>\u001b[1;34m()\u001b[0m\n\u001b[0;32m      1\u001b[0m \u001b[38;5;28;01mtry\u001b[39;00m:\n\u001b[1;32m----> 2\u001b[0m     x \u001b[38;5;241m=\u001b[39m \u001b[38;5;241;43m10\u001b[39;49m\u001b[43m \u001b[49m\u001b[38;5;241;43m/\u001b[39;49m\u001b[43m \u001b[49m\u001b[38;5;241;43m0\u001b[39;49m  \u001b[38;5;66;03m# This division will raise a ZeroDivisionError\u001b[39;00m\n\u001b[0;32m      3\u001b[0m \u001b[38;5;28;01mexcept\u001b[39;00m \u001b[38;5;167;01mValueError\u001b[39;00m:\n\u001b[0;32m      4\u001b[0m     \u001b[38;5;28mprint\u001b[39m(\u001b[38;5;124m\"\u001b[39m\u001b[38;5;124mValueError occurred\u001b[39m\u001b[38;5;124m\"\u001b[39m)\n",
      "\u001b[1;31mZeroDivisionError\u001b[0m: division by zero"
     ]
    }
   ],
   "source": [
    "try:\n",
    "    x = 10 / 0  # This division will raise a ZeroDivisionError\n",
    "except ValueError:\n",
    "    print(\"ValueError occurred\")"
   ]
  },
  {
   "cell_type": "markdown",
   "id": "1342fb89",
   "metadata": {},
   "source": [
    "## 4. What is the difference between using a bare except block and specifying a specific exception type?\n",
    "\n",
    "-------------------------------------------------------------------------------------------------------------------------------\n",
    "\n",
    "**Answer:**\n",
    "\n",
    "A bare except block, denoted as except:, without specifying any exception type, acts as a catch-all block that handles any type of exception that occurs within the try block.\n",
    "\n",
    "When you specify a specific exception type in an except block, such as except ValueError, it means that the block will only handle exceptions of that particular type or its subclasses."
   ]
  },
  {
   "cell_type": "markdown",
   "id": "b278a53f",
   "metadata": {},
   "source": [
    "## 5. Can you have nested try-except blocks in Python? If yes, then give an example.\n",
    "\n",
    "-------------------------------------------------------------------------------------------------------------------------------\n",
    "\n",
    "**Answer:**\n",
    "\n",
    "Yes, it is possible to have nested try-except blocks in Python. This means that you can have a try block within another try block, and each can have its own corresponding except block. This nesting allows for more granular exception handling and the ability to handle different exceptions at different levels of the code."
   ]
  },
  {
   "cell_type": "code",
   "execution_count": 6,
   "id": "7a2ce3db",
   "metadata": {},
   "outputs": [
    {
     "name": "stdout",
     "output_type": "stream",
     "text": [
      "Enter a number: 4\n",
      "Result: 2.5\n"
     ]
    }
   ],
   "source": [
    "try:\n",
    "    # Outer try block\n",
    "    x = int(input(\"Enter a number: \"))\n",
    "    try:\n",
    "        # Inner try block\n",
    "        result = 10 / x\n",
    "        print(\"Result:\", result)\n",
    "    except ZeroDivisionError:\n",
    "        print(\"Error: Division by zero occurred.\")\n",
    "except ValueError:\n",
    "    print(\"Error: Invalid input. Please enter a valid number.\")"
   ]
  },
  {
   "cell_type": "markdown",
   "id": "98dddc16",
   "metadata": {},
   "source": [
    "## 6. Can we use multiple exception blocks, if yes then give an example.\n",
    "\n",
    "-------------------------------------------------------------------------------------------------------------------------------\n",
    "\n",
    "**Answer:**\n",
    "\n",
    "Yes, it is possible to use multiple except blocks to handle different types of exceptions in Python. "
   ]
  },
  {
   "cell_type": "code",
   "execution_count": 7,
   "id": "cdedb028",
   "metadata": {},
   "outputs": [
    {
     "name": "stdout",
     "output_type": "stream",
     "text": [
      "Enter a number: 4\n",
      "Result: 2.5\n"
     ]
    }
   ],
   "source": [
    "try:\n",
    "    x = int(input(\"Enter a number: \"))\n",
    "    result = 10 / x\n",
    "    print(\"Result:\", result)\n",
    "except ValueError:\n",
    "    print(\"Error: Invalid input. Please enter a valid number.\")\n",
    "except ZeroDivisionError:\n",
    "    print(\"Error: Division by zero occurred.\")"
   ]
  },
  {
   "cell_type": "markdown",
   "id": "b23fe411",
   "metadata": {},
   "source": [
    "## 7. Write the reason due to which following errors are raised:\n",
    "a. EOFError\n",
    "b. FloatingPointError\n",
    "c. IndexError\n",
    "d. MemoryError\n",
    "e. OverflowError\n",
    "f. TabError\n",
    "g. ValueError\n",
    "\n",
    "-------------------------------------------------------------------------------------------------------------------------------\n",
    "\n",
    "**Answer:**\n",
    "\n",
    "a. EOFError: This error is raised when the input() function reaches the end of the file (EOF) while trying to read input from the user.\n",
    "\n",
    "b. FloatingPointError: This error is raised when an arithmetic operation involving floating-point numbers fails.\n",
    "\n",
    "c. IndexError: This error is raised when trying to access an index of a sequence (such as a list or tuple) that is outside the valid range of indices.\n",
    "\n",
    "d. MemoryError: This error is raised when the Python interpreter is unable to allocate the necessary memory for an operation. \n",
    "\n",
    "e. OverflowError: This error is raised when a mathematical operation exceeds the maximum representable value for a numeric type. \n",
    "\n",
    "f. TabError: This error is raised when there are inconsistencies or errors in the indentation of the code. \n",
    "\n",
    "g. ValueError: This error is raised when a function receives an argument of the correct type but an inappropriate value."
   ]
  },
  {
   "cell_type": "code",
   "execution_count": null,
   "id": "b3e65d13",
   "metadata": {},
   "outputs": [],
   "source": [
    "8. Write code for the following given scenario and add try-exception block to it.\n",
    "a. Program to divide two numbers\n",
    "b. Program to convert a string to an integer\n",
    "c. Program to access an element in a list\n",
    "d. Program to handle a specific exception\n",
    "e. Program to handle any exception\n",
    "\n",
    "-------------------------------------------------------------------------------------------------------------------------------\n",
    "\n",
    "**Answer:**"
   ]
  },
  {
   "cell_type": "code",
   "execution_count": 8,
   "id": "2008e7b2",
   "metadata": {},
   "outputs": [
    {
     "name": "stdout",
     "output_type": "stream",
     "text": [
      "Enter the numerator: 44\n",
      "Enter the denominator: 22\n",
      "Result: 2.0\n"
     ]
    }
   ],
   "source": [
    "#a. Program to divide two numbers\n",
    "\n",
    "try:\n",
    "    numerator = int(input(\"Enter the numerator: \"))\n",
    "    denominator = int(input(\"Enter the denominator: \"))\n",
    "    result = numerator / denominator\n",
    "    print(\"Result:\", result)\n",
    "except ZeroDivisionError:\n",
    "    print(\"Error: Division by zero is not allowed.\")\n",
    "except ValueError:\n",
    "    print(\"Error: Invalid input. Please enter valid numbers.\")"
   ]
  },
  {
   "cell_type": "code",
   "execution_count": null,
   "id": "3b94d369",
   "metadata": {},
   "outputs": [],
   "source": [
    "#"
   ]
  }
 ],
 "metadata": {
  "kernelspec": {
   "display_name": "Python 3 (ipykernel)",
   "language": "python",
   "name": "python3"
  },
  "language_info": {
   "codemirror_mode": {
    "name": "ipython",
    "version": 3
   },
   "file_extension": ".py",
   "mimetype": "text/x-python",
   "name": "python",
   "nbconvert_exporter": "python",
   "pygments_lexer": "ipython3",
   "version": "3.9.12"
  }
 },
 "nbformat": 4,
 "nbformat_minor": 5
}
