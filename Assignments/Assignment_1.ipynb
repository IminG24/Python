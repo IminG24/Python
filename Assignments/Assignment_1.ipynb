{
 "cells": [
  {
   "cell_type": "markdown",
   "id": "0431638a",
   "metadata": {},
   "source": [
    "1. In the below elements which of them are values or an expression? eg:- values can be integer or string and expressions will be mathematical operators.\n",
    "* \n",
    "'hello'\n",
    "-87.8\n",
    "- \n",
    "/ \n",
    "\n",
    "6 \n",
    "Answer:  \n",
    "* ->  mathematical operator\n",
    "'hello' -> string\n",
    "-87.8 -> float\n",
    "-  -> mathematical operator\n",
    "/ -> mathematical  operator\n",
    "+ -> mathematical  operator\n",
    "6 -> integer "
   ]
  },
  {
   "cell_type": "markdown",
   "id": "e4a01ae8",
   "metadata": {},
   "source": [
    "2. What is the difference between string and variable?\n",
    "Variable is something which is used to stored data in it which maybe of any datatype, objects etc. \n",
    "String is a datatype which consists of characters stored in a variable.\n",
    "Eg: name = “myname”\n",
    "Here name is variable and “myname” is a string"
   ]
  },
  {
   "cell_type": "markdown",
   "id": "0105ec18",
   "metadata": {},
   "source": [
    "3. Describe three different data types.\n",
    "Integer, strings, Float"
   ]
  },
  {
   "cell_type": "markdown",
   "id": "c4bc19f8",
   "metadata": {},
   "source": [
    "4. What is an expression made up of? What do all expressions do?\n",
    "An expression is made up of combination of values, variables, operators and functional calls which can  be evaluted to produce a result.\n"
   ]
  },
  {
   "cell_type": "markdown",
   "id": "eb0ef6b4",
   "metadata": {},
   "source": [
    "5. This assignment statements, like spam = 10. What is the difference between an expression and a statement?\n",
    "Expressions are used to calculate or compute values, while statements are used to perform actions or control the flow of a program.\n"
   ]
  },
  {
   "cell_type": "markdown",
   "id": "46801132",
   "metadata": {},
   "source": [
    "6. After running the following code, what does the variable bacon contain?"
   ]
  },
  {
   "cell_type": "code",
   "execution_count": 1,
   "id": "1e304743",
   "metadata": {},
   "outputs": [
    {
     "data": {
      "text/plain": [
       "23"
      ]
     },
     "execution_count": 1,
     "metadata": {},
     "output_type": "execute_result"
    }
   ],
   "source": [
    "bacon = 22\n",
    "bacon + 1"
   ]
  },
  {
   "cell_type": "code",
   "execution_count": null,
   "id": "09181de8",
   "metadata": {},
   "outputs": [],
   "source": [
    "7. What should the values of the following two terms be?"
   ]
  },
  {
   "cell_type": "code",
   "execution_count": 2,
   "id": "561a52b1",
   "metadata": {},
   "outputs": [
    {
     "data": {
      "text/plain": [
       "'spamspamspam'"
      ]
     },
     "execution_count": 2,
     "metadata": {},
     "output_type": "execute_result"
    }
   ],
   "source": [
    "'spam' + 'spamspam'\n",
    "'spam' * 3"
   ]
  },
  {
   "cell_type": "code",
   "execution_count": null,
   "id": "75f12dad",
   "metadata": {},
   "outputs": [],
   "source": [
    "8. Why is eggs a valid variable name while 100 is invalid?\n",
    "Answer: Because variable names must begin with a letter or an underscore, not a digit.\n"
   ]
  },
  {
   "cell_type": "code",
   "execution_count": null,
   "id": "20c4929b",
   "metadata": {},
   "outputs": [],
   "source": [
    "9. What three functions can be used to get the integer, floating-point number, or string version of a value?\n",
    "Answer: float(), int(), str()\n"
   ]
  },
  {
   "cell_type": "code",
   "execution_count": null,
   "id": "655ef039",
   "metadata": {},
   "outputs": [],
   "source": [
    "10. Why does this expression cause an error? How can you fix it?\n",
    "'I have eaten ' + 99 + ' burritos.'\n",
    "Answer: This expression cause ana error because 99 is an integer so cannot concatenate with string value directly. To fix this:"
   ]
  },
  {
   "cell_type": "code",
   "execution_count": 4,
   "id": "3fdc6d2c",
   "metadata": {},
   "outputs": [
    {
     "data": {
      "text/plain": [
       "'I have eaten 99 burritos'"
      ]
     },
     "execution_count": 4,
     "metadata": {},
     "output_type": "execute_result"
    }
   ],
   "source": [
    "'I have eaten '+str(99)+' burritos'"
   ]
  }
 ],
 "metadata": {
  "kernelspec": {
   "display_name": "Python 3 (ipykernel)",
   "language": "python",
   "name": "python3"
  },
  "language_info": {
   "codemirror_mode": {
    "name": "ipython",
    "version": 3
   },
   "file_extension": ".py",
   "mimetype": "text/x-python",
   "name": "python",
   "nbconvert_exporter": "python",
   "pygments_lexer": "ipython3",
   "version": "3.9.12"
  }
 },
 "nbformat": 4,
 "nbformat_minor": 5
}
