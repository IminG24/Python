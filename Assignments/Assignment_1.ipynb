{
 "cells": [
  {
   "cell_type": "markdown",
   "id": "c9e51f19",
   "metadata": {},
   "source": [
    "## 1. In the below elements which of them are values or an expression? eg:- values can be integer or string and expressions will be mathematical operators.\n",
    "$1) * $<br>\n",
    "$2) 'hello' $<br>\n",
    "$3) -87.8 $<br>\n",
    "$4) - $<br>\n",
    "$5) / $<br>\n",
    "$6) + $<br>\n",
    "$7) 6 $<br>\n",
    "-------------------------------------------------------------------------------------------------------------------------------\n",
    "\n",
    "**Answer:**  \n",
    "\n",
    "$1) *  :  expression $<br>\n",
    "$2) 'hello' : value $<br>\n",
    "$3) -87.8  : value $<br>\n",
    "$4) -  :  expression $<br>\n",
    "$5) /  :  expression $<br>\n",
    "$6) +  :  expression $<br>\n",
    "$7) 6 : value $<br>"
   ]
  },
  {
   "cell_type": "markdown",
   "id": "f006b579",
   "metadata": {},
   "source": [
    "## 2. What is the difference between string and variable?\n",
    "-------------------------------------------------------------------------------------------------------------------------------\n",
    "\n",
    "**Answer:**\n",
    "\n",
    "Variable is something which is used to stored data in it which maybe of any datatype, objects etc.<br>\n",
    "String is a datatype which consists of characters stored in a variable.<br>\n",
    "Eg: name = “myname”<br>\n",
    "Here name is variable and “myname” is a string"
   ]
  },
  {
   "cell_type": "code",
   "execution_count": 2,
   "id": "c28a62be",
   "metadata": {},
   "outputs": [
    {
     "data": {
      "text/plain": [
       "str"
      ]
     },
     "execution_count": 2,
     "metadata": {},
     "output_type": "execute_result"
    }
   ],
   "source": [
    "name = \"myname\"\n",
    "name\n",
    "type(name)"
   ]
  },
  {
   "cell_type": "markdown",
   "id": "76fe6cb9",
   "metadata": {},
   "source": [
    "## 3. Describe three different data types.\n",
    "-------------------------------------------------------------------------------------------------------------------------------\n",
    "\n",
    "**Answer:**\n",
    "\n",
    "Integer - for numbers<br>\n",
    "strings - for characters<br>\n",
    "Float   - for decimal numbers<br>"
   ]
  },
  {
   "cell_type": "code",
   "execution_count": 5,
   "id": "f26798a5",
   "metadata": {},
   "outputs": [
    {
     "name": "stdout",
     "output_type": "stream",
     "text": [
      "12\n",
      "<class 'int'>\n",
      "riya\n",
      "<class 'str'>\n",
      "4.5\n",
      "<class 'float'>\n"
     ]
    }
   ],
   "source": [
    "a = 12\n",
    "b = \"riya\"\n",
    "c = 4.5\n",
    "print(a)\n",
    "print(type(a))\n",
    "print(b)\n",
    "print(type(b))\n",
    "print(c)\n",
    "print(type(c))"
   ]
  },
  {
   "cell_type": "markdown",
   "id": "25980270",
   "metadata": {},
   "source": [
    "## 4. What is an expression made up of? What do all expressions do?\n",
    "\n",
    "-------------------------------------------------------------------------------------------------------------------------------\n",
    "\n",
    "**Answer:**\n",
    "\n",
    "An expression is made up of combination of values, variables, operators and functional calls which can be evaluted to produce a result."
   ]
  },
  {
   "cell_type": "code",
   "execution_count": 7,
   "id": "e51e12cf",
   "metadata": {},
   "outputs": [
    {
     "data": {
      "text/plain": [
       "82"
      ]
     },
     "execution_count": 7,
     "metadata": {},
     "output_type": "execute_result"
    }
   ],
   "source": [
    "#Here 9's and 1 are values which is combinded by operators to calculate expression\n",
    "a = (9*9)+1\n",
    "a"
   ]
  },
  {
   "cell_type": "markdown",
   "id": "499f106c",
   "metadata": {},
   "source": [
    "## 5. This assignment statements, like spam = 10. What is the difference between an expression and a statement?\n",
    "\n",
    "-------------------------------------------------------------------------------------------------------------------------------\n",
    "\n",
    "**Answer:**\n",
    "\n",
    "Expressions are used to calculate or compute values, while statements are used to perform actions or control the flow of a program."
   ]
  },
  {
   "cell_type": "code",
   "execution_count": 8,
   "id": "b704f6cc",
   "metadata": {},
   "outputs": [
    {
     "name": "stdout",
     "output_type": "stream",
     "text": [
      "25\n",
      "10\n"
     ]
    }
   ],
   "source": [
    "#Expression\n",
    "\n",
    "a = 5*5\n",
    "print(a)\n",
    "\n",
    "#statement\n",
    "\n",
    "spam = 10\n",
    "print(spam)"
   ]
  },
  {
   "cell_type": "markdown",
   "id": "00c2a3e7",
   "metadata": {},
   "source": [
    "## 6. After running the following code, what does the variable bacon contain?\n",
    "\n",
    "$bacon = 22$<br>\n",
    "$bacon + 1$\n",
    "-------------------------------------------------------------------------------------------------------------------------------\n",
    "\n",
    "**Answer:**\n"
   ]
  },
  {
   "cell_type": "code",
   "execution_count": 9,
   "id": "e9b3b601",
   "metadata": {},
   "outputs": [
    {
     "data": {
      "text/plain": [
       "23"
      ]
     },
     "execution_count": 9,
     "metadata": {},
     "output_type": "execute_result"
    }
   ],
   "source": [
    "bacon = 22\n",
    "bacon + 1"
   ]
  },
  {
   "cell_type": "markdown",
   "id": "f2af1cf5",
   "metadata": {},
   "source": [
    "## 7. What should the values of the following two terms be?\n",
    "\n",
    "$'spam' + 'spamspam'$<br>\n",
    "$'spam' * 3$\n",
    "-------------------------------------------------------------------------------------------------------------------------------\n",
    "\n",
    "**Answer:**"
   ]
  },
  {
   "cell_type": "code",
   "execution_count": 11,
   "id": "d48b582b",
   "metadata": {},
   "outputs": [
    {
     "data": {
      "text/plain": [
       "'spamspamspam'"
      ]
     },
     "execution_count": 11,
     "metadata": {},
     "output_type": "execute_result"
    }
   ],
   "source": [
    "'spam' + 'spamspam'\n",
    "'spam' * 3"
   ]
  },
  {
   "cell_type": "markdown",
   "id": "23f077b9",
   "metadata": {},
   "source": [
    "## 8. Why is eggs a valid variable name while 100 is invalid?\n",
    "-------------------------------------------------------------------------------------------------------------------------------\n",
    "\n",
    "**Answer:**\n",
    "\n",
    "Because variable names must begin with a letter or an underscore, not a digit."
   ]
  },
  {
   "cell_type": "code",
   "execution_count": 12,
   "id": "aa3fa54e",
   "metadata": {},
   "outputs": [
    {
     "data": {
      "text/plain": [
       "11221212"
      ]
     },
     "execution_count": 12,
     "metadata": {},
     "output_type": "execute_result"
    }
   ],
   "source": [
    "eggs = 11221212\n",
    "eggs"
   ]
  },
  {
   "cell_type": "code",
   "execution_count": 14,
   "id": "328cbe94",
   "metadata": {},
   "outputs": [
    {
     "ename": "SyntaxError",
     "evalue": "cannot assign to literal (2123375437.py, line 1)",
     "output_type": "error",
     "traceback": [
      "\u001b[1;36m  Input \u001b[1;32mIn [14]\u001b[1;36m\u001b[0m\n\u001b[1;33m    100 = \"abc\"\u001b[0m\n\u001b[1;37m    ^\u001b[0m\n\u001b[1;31mSyntaxError\u001b[0m\u001b[1;31m:\u001b[0m cannot assign to literal\n"
     ]
    }
   ],
   "source": [
    "100 = \"abc\""
   ]
  },
  {
   "cell_type": "code",
   "execution_count": null,
   "id": "5f0b2b9d",
   "metadata": {},
   "outputs": [],
   "source": [
    "## 9. What three functions can be used to get the integer, floating-point number, or string version of a value?\n",
    "\n",
    "-------------------------------------------------------------------------------------------------------------------------------\n",
    "\n",
    "**Answer:**\n",
    "    \n",
    "float(), int(), str()"
   ]
  },
  {
   "cell_type": "code",
   "execution_count": 17,
   "id": "8e7ed87c",
   "metadata": {},
   "outputs": [
    {
     "name": "stdout",
     "output_type": "stream",
     "text": [
      "<class 'str'>\n",
      "<class 'int'>\n"
     ]
    }
   ],
   "source": [
    "input1 = \"22\"\n",
    "print(type(input1))\n",
    "input2 = int(input1)\n",
    "print(type(input2))"
   ]
  },
  {
   "cell_type": "code",
   "execution_count": 18,
   "id": "cba3e366",
   "metadata": {},
   "outputs": [
    {
     "name": "stdout",
     "output_type": "stream",
     "text": [
      "<class 'float'>\n",
      "<class 'int'>\n"
     ]
    }
   ],
   "source": [
    "input1 = 22.5\n",
    "print(type(input1))\n",
    "input2 = int(input1)\n",
    "print(type(input2))"
   ]
  },
  {
   "cell_type": "code",
   "execution_count": 19,
   "id": "9695622a",
   "metadata": {},
   "outputs": [
    {
     "name": "stdout",
     "output_type": "stream",
     "text": [
      "<class 'float'>\n",
      "<class 'str'>\n"
     ]
    }
   ],
   "source": [
    "input1 = 22.5\n",
    "print(type(input1))\n",
    "input2 = str(input1)\n",
    "print(type(input2))"
   ]
  },
  {
   "cell_type": "markdown",
   "id": "08e6cce8",
   "metadata": {},
   "source": [
    "## 10. Why does this expression cause an error? How can you fix it?\n",
    "'I have eaten ' + 99 + ' burritos.'\n",
    "\n",
    "-------------------------------------------------------------------------------------------------------------------------------\n",
    "\n",
    "**Answer:**\n",
    "\n",
    "This expression cause ana error because 99 is an integer so cannot concatenate with string value directly. To fix this:"
   ]
  },
  {
   "cell_type": "code",
   "execution_count": 4,
   "id": "88c7b5ef",
   "metadata": {},
   "outputs": [
    {
     "data": {
      "text/plain": [
       "'I have eaten 99 burritos'"
      ]
     },
     "execution_count": 4,
     "metadata": {},
     "output_type": "execute_result"
    }
   ],
   "source": [
    "'I have eaten '+str(99)+' burritos'"
   ]
  }
 ],
 "metadata": {
  "kernelspec": {
   "display_name": "Python 3 (ipykernel)",
   "language": "python",
   "name": "python3"
  },
  "language_info": {
   "codemirror_mode": {
    "name": "ipython",
    "version": 3
   },
   "file_extension": ".py",
   "mimetype": "text/x-python",
   "name": "python",
   "nbconvert_exporter": "python",
   "pygments_lexer": "ipython3",
   "version": "3.9.12"
  }
 },
 "nbformat": 4,
 "nbformat_minor": 5
}
