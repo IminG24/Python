{
 "cells": [
  {
   "cell_type": "markdown",
   "id": "90017b13",
   "metadata": {},
   "source": [
    "## 1. What is the role of the 'else' block in a try-except statement? Provide an example\n",
    "scenario where it would be useful.\n",
    "-------------------------------------------------------------------------------------------------------------------------------\n",
    "\n",
    "**Answer:**  \n",
    "\n",
    "The else block in a try-except statement is an optional block that can follow all the except blocks. The code within the else block is executed only if no exceptions were raised in the corresponding try block.\n"
   ]
  },
  {
   "cell_type": "code",
   "execution_count": 1,
   "id": "c34c68ec",
   "metadata": {},
   "outputs": [
    {
     "name": "stdout",
     "output_type": "stream",
     "text": [
      "Division successful. Result: 5.0\n",
      "Error: Division by zero is not allowed.\n"
     ]
    }
   ],
   "source": [
    "def divide_numbers(a, b):\n",
    "    try:\n",
    "        result = a / b\n",
    "    except ZeroDivisionError:\n",
    "        print(\"Error: Division by zero is not allowed.\")\n",
    "    else:\n",
    "        print(\"Division successful. Result:\", result)\n",
    "\n",
    "divide_numbers(10, 2)  \n",
    "divide_numbers(10, 0)  "
   ]
  },
  {
   "cell_type": "markdown",
   "id": "34c04c8e",
   "metadata": {},
   "source": [
    "## 2. Can a try-except block be nested inside another try-except block? Explain with an\n",
    "example.\n",
    "-------------------------------------------------------------------------------------------------------------------------------\n",
    "\n",
    "**Answer:**  \n",
    "\n",
    "Yes, a try-except block can indeed be nested inside another try-except block. This is known as nested exception handling and allows for more granular and specific handling of exceptions in different contexts."
   ]
  },
  {
   "cell_type": "code",
   "execution_count": 2,
   "id": "fa875f4b",
   "metadata": {},
   "outputs": [
    {
     "name": "stdout",
     "output_type": "stream",
     "text": [
      "Enter the numerator: 44\n",
      "Enter the denominator: 22\n",
      "Result: 2.0\n"
     ]
    }
   ],
   "source": [
    "try:\n",
    "    # Outer try-except block\n",
    "    try:\n",
    "        # Inner try-except block\n",
    "        numerator = int(input(\"Enter the numerator: \"))\n",
    "        denominator = int(input(\"Enter the denominator: \"))\n",
    "        result = numerator / denominator\n",
    "        print(\"Result:\", result)\n",
    "    except ValueError:\n",
    "        print(\"Invalid input. Please enter valid integer values.\")\n",
    "    except ZeroDivisionError:\n",
    "        print(\"Division by zero is not allowed.\")\n",
    "except:\n",
    "    print(\"An error occurred.\")"
   ]
  },
  {
   "cell_type": "markdown",
   "id": "90525662",
   "metadata": {},
   "source": [
    "## 3. How can you create a custom exception class in Python? Provide an example that\n",
    "demonstrates its usage.\n",
    "-------------------------------------------------------------------------------------------------------------------------------\n",
    "\n",
    "**Answer:**  \n",
    "\n",
    "In Python, you can create a custom exception class by inheriting from the built-in Exception class or any of its subclasses. This allows you to define your own custom exceptions with specific behavior and error messages."
   ]
  },
  {
   "cell_type": "code",
   "execution_count": 4,
   "id": "88674ba4",
   "metadata": {},
   "outputs": [
    {
     "name": "stdout",
     "output_type": "stream",
     "text": [
      "Enter the numerator: 0\n",
      "Enter the denominator: 3\n",
      "Result: 0.0\n"
     ]
    }
   ],
   "source": [
    "class InvalidInputError(Exception):\n",
    "    def __init__(self, message):\n",
    "        self.message = message\n",
    "\n",
    "    def __str__(self):\n",
    "        return f'Invalid input error: {self.message}'\n",
    "\n",
    "\n",
    "def divide_numbers(a, b):\n",
    "    try:\n",
    "        if b == 0:\n",
    "            raise InvalidInputError(\"Cannot divide by zero.\")\n",
    "        result = a / b\n",
    "        return result\n",
    "    except InvalidInputError as e:\n",
    "        print(e)\n",
    "\n",
    "\n",
    "# Usage example\n",
    "numerator = int(input(\"Enter the numerator: \"))\n",
    "denominator = int(input(\"Enter the denominator: \"))\n",
    "\n",
    "try:\n",
    "    result = divide_numbers(numerator, denominator)\n",
    "    print(\"Result:\", result)\n",
    "except ZeroDivisionError:\n",
    "    print(\"Error: Division by zero occurred.\")\n"
   ]
  },
  {
   "cell_type": "markdown",
   "id": "30bdc2dc",
   "metadata": {},
   "source": [
    "## 4. What are some common exceptions that are built-in to Python?\n",
    "-------------------------------------------------------------------------------------------------------------------------------\n",
    "\n",
    "**Answer:**  \n",
    "\n",
    "Exception: The base class for all exceptions. It is typically not directly raised but serves as a superclass for more specific exception classes.\n",
    "\n",
    "SyntaxError: Raised when there is a syntax error in the Python code.\n",
    "\n",
    "IndentationError: Raised when there is an indentation-related error, such as incorrect or inconsistent indentation.\n",
    "\n",
    "NameError: Raised when a local or global name is not found. It occurs when trying to access a variable or function that is not defined.\n",
    "\n",
    "TypeError: Raised when an operation or function is applied to an object of inappropriate type.\n",
    "\n",
    "ValueError: Raised when a function receives an argument of the correct type but an invalid value.\n",
    "\n",
    "ZeroDivisionError: Raised when division or modulo operation is performed with zero as the divisor.\n",
    "\n",
    "FileNotFoundError: Raised when a file or directory is requested, but it cannot be found.\n",
    "\n",
    "IndexError: Raised when a sequence subscript is out of range.\n",
    "\n",
    "KeyError: Raised when a dictionary key is not found.\n",
    "\n",
    "AssertionError: Raised when an assert statement fails.\n",
    "\n",
    "IOError: Raised when an input/output operation fails, such as when trying to read from or write to a file."
   ]
  },
  {
   "cell_type": "markdown",
   "id": "45adb8db",
   "metadata": {},
   "source": [
    "## 5. What is logging in Python, and why is it important in software development?\n",
    "-------------------------------------------------------------------------------------------------------------------------------\n",
    "\n",
    "**Answer:**  \n",
    "\n",
    "Logging in Python refers to the process of capturing and recording events, messages, and other relevant information during the execution of a program. It involves using the built-in logging module in Python to create log records, which can then be saved to various outputs, such as console, files, or external logging services.\n",
    "\n",
    "Logging is important in software development for several reasons:\n",
    "\n",
    "debugging and troubleshooting, \n",
    "monitoring and performance analysis, \n",
    "security and intrusion detection etc\n"
   ]
  },
  {
   "cell_type": "markdown",
   "id": "0654a8be",
   "metadata": {},
   "source": [
    "## 6. Explain the purpose of log levels in Python logging and provide examples of when\n",
    "each log level would be appropriate.\n",
    "-------------------------------------------------------------------------------------------------------------------------------\n",
    "\n",
    "**Answer:**  \n",
    "\n",
    "In Python logging, log levels are used to categorize and prioritize log records based on their importance and severity. \n",
    "\n",
    "DEBUG: This is the lowest level of log severity and provides detailed information for debugging purposes. \n",
    "INFO: This level provides informational messages that highlight the progress and significant events in the application. \n",
    "WARNING: This level indicates potential issues or situations that could lead to errors or unexpected behavior.\n",
    "ERROR: This level indicates errors that prevent certain operations or functionality from completing successfully.\n",
    "CRITICAL: This is the highest log level and represents critical errors or failures that may lead to application crashes or data loss."
   ]
  },
  {
   "cell_type": "code",
   "execution_count": 5,
   "id": "b88b0992",
   "metadata": {},
   "outputs": [
    {
     "name": "stderr",
     "output_type": "stream",
     "text": [
      "DEBUG:root:This is a debug message\n"
     ]
    }
   ],
   "source": [
    "import logging\n",
    "\n",
    "logging.basicConfig(level=logging.DEBUG)\n",
    "logging.debug(\"This is a debug message\")"
   ]
  },
  {
   "cell_type": "code",
   "execution_count": 6,
   "id": "c80d5902",
   "metadata": {},
   "outputs": [
    {
     "name": "stderr",
     "output_type": "stream",
     "text": [
      "INFO:root:Application started\n"
     ]
    }
   ],
   "source": [
    "import logging\n",
    "\n",
    "logging.basicConfig(level=logging.INFO)\n",
    "logging.info(\"Application started\")"
   ]
  },
  {
   "cell_type": "code",
   "execution_count": 7,
   "id": "fde48b14",
   "metadata": {},
   "outputs": [
    {
     "name": "stderr",
     "output_type": "stream",
     "text": [
      "WARNING:root:Disk space is running low\n"
     ]
    }
   ],
   "source": [
    "import logging\n",
    "\n",
    "logging.basicConfig(level=logging.WARNING)\n",
    "logging.warning(\"Disk space is running low\")\n"
   ]
  },
  {
   "cell_type": "code",
   "execution_count": 8,
   "id": "65cea19b",
   "metadata": {},
   "outputs": [
    {
     "name": "stderr",
     "output_type": "stream",
     "text": [
      "ERROR:root:An error occurred while processing the request\n"
     ]
    }
   ],
   "source": [
    "import logging\n",
    "\n",
    "logging.basicConfig(level=logging.ERROR)\n",
    "logging.error(\"An error occurred while processing the request\")"
   ]
  },
  {
   "cell_type": "code",
   "execution_count": 9,
   "id": "ae89e145",
   "metadata": {},
   "outputs": [
    {
     "name": "stderr",
     "output_type": "stream",
     "text": [
      "CRITICAL:root:Database connection failed\n"
     ]
    }
   ],
   "source": [
    "import logging\n",
    "\n",
    "logging.basicConfig(level=logging.CRITICAL)\n",
    "logging.critical(\"Database connection failed\")\n"
   ]
  },
  {
   "cell_type": "markdown",
   "id": "c8ad85b0",
   "metadata": {},
   "source": [
    "## 7. What are log formatters in Python logging, and how can you customise the log\n",
    "message format using formatters?\n",
    "-------------------------------------------------------------------------------------------------------------------------------\n",
    "\n",
    "**Answer:**  \n",
    "\n",
    "log formatters define the structure and content of log messages. They determine how the log records are formatted and presented in the logs. The logging module provides the Formatter class, which allows customization of the log message format according to specific requirements."
   ]
  },
  {
   "cell_type": "code",
   "execution_count": 10,
   "id": "9900c329",
   "metadata": {},
   "outputs": [
    {
     "name": "stderr",
     "output_type": "stream",
     "text": [
      "2023-07-12 16:34:26,886 - DEBUG - This is a debug message\n",
      "DEBUG:my_logger:This is a debug message\n",
      "2023-07-12 16:34:26,887 - INFO - This is an info message\n",
      "INFO:my_logger:This is an info message\n",
      "2023-07-12 16:34:26,890 - ERROR - This is an error message\n",
      "ERROR:my_logger:This is an error message\n"
     ]
    }
   ],
   "source": [
    "import logging\n",
    "formatter = logging.Formatter('%(asctime)s - %(levelname)s - %(message)s')\n",
    "# Set the formatter on a handler\n",
    "handler = logging.StreamHandler()\n",
    "handler.setFormatter(formatter)\n",
    "\n",
    "# Set the formatter on a logger\n",
    "logger = logging.getLogger('my_logger')\n",
    "logger.addHandler(handler)\n",
    "logger.setLevel(logging.DEBUG)\n",
    "logger.debug('This is a debug message')\n",
    "logger.info('This is an info message')\n",
    "logger.error('This is an error message')"
   ]
  },
  {
   "cell_type": "markdown",
   "id": "f3a0fd64",
   "metadata": {},
   "source": [
    "## 8. How can you set up logging to capture log messages from multiple modules or\n",
    "classes in a Python application?\n",
    "-------------------------------------------------------------------------------------------------------------------------------\n",
    "\n",
    "**Answer:**  \n",
    "\n"
   ]
  },
  {
   "cell_type": "code",
   "execution_count": 13,
   "id": "f112e87c",
   "metadata": {},
   "outputs": [
    {
     "name": "stderr",
     "output_type": "stream",
     "text": [
      "DEBUG:__main__:This is a debug message\n",
      "INFO:__main__:This is an info message\n",
      "ERROR:__main__:This is an error message\n"
     ]
    }
   ],
   "source": [
    "logging.basicConfig(\n",
    "    level=logging.DEBUG,\n",
    "    filename='app.log',\n",
    "    filemode='w',\n",
    "    format='%(asctime)s - %(levelname)s - %(message)s'\n",
    ")\n",
    "import logging\n",
    "\n",
    "logger = logging.getLogger(__name__)\n",
    "logger.debug('This is a debug message')\n",
    "logger.info('This is an info message')\n",
    "logger.error('This is an error message')\n"
   ]
  },
  {
   "cell_type": "markdown",
   "id": "6e59d7f0",
   "metadata": {},
   "source": [
    "## 9. What is the difference between the logging and print statements in Python? When\n",
    "should you use logging over print statements in a real-world application?\n",
    "-------------------------------------------------------------------------------------------------------------------------------\n",
    "\n",
    "**Answer:**  \n",
    "\n",
    "Print statements direct the output to the standard output stream, usually the console. On the other hand, logging allows you to configure the output destination, such as writing logs to a file, sending them to a remote server, or integrating with external logging services."
   ]
  },
  {
   "cell_type": "markdown",
   "id": "00dc204d",
   "metadata": {},
   "source": [
    "## 10. Write a Python program that logs a message to a file named \"app.log\" with the\n",
    "following requirements:\n",
    "● The log message should be \"Hello, World!\"\n",
    "● The log level should be set to \"INFO.\"\n",
    "● The log file should append new log entries without overwriting previous ones.\n",
    "\n",
    "-------------------------------------------------------------------------------------------------------------------------------\n",
    "\n",
    "**Answer:**  \n",
    "\n"
   ]
  },
  {
   "cell_type": "code",
   "execution_count": 14,
   "id": "8dded81a",
   "metadata": {},
   "outputs": [
    {
     "name": "stderr",
     "output_type": "stream",
     "text": [
      "INFO:root:Hello, World!\n"
     ]
    }
   ],
   "source": [
    "import logging\n",
    "\n",
    "# Configure logging\n",
    "logging.basicConfig(\n",
    "    filename='app.log',\n",
    "    filemode='a',  # Append mode\n",
    "    format='%(asctime)s - %(levelname)s - %(message)s',\n",
    "    level=logging.INFO\n",
    ")\n",
    "\n",
    "# Log the message\n",
    "logging.info('Hello, World!')\n"
   ]
  },
  {
   "cell_type": "markdown",
   "id": "a2df37d2",
   "metadata": {},
   "source": [
    "## 11. Create a Python program that logs an error message to the console and a file named\n",
    "\"errors.log\" if an exception occurs during the program's execution. The error message should include the exception type and a timestamp.\n",
    "-------------------------------------------------------------------------------------------------------------------------------\n",
    "\n",
    "**Answer:**  \n"
   ]
  },
  {
   "cell_type": "code",
   "execution_count": 17,
   "id": "c3a07093",
   "metadata": {},
   "outputs": [
    {
     "name": "stderr",
     "output_type": "stream",
     "text": [
      "ERROR:__main__:2023-07-12 16:44:39 - Exception: ValueError - An example exception occurred\n"
     ]
    },
    {
     "name": "stdout",
     "output_type": "stream",
     "text": [
      "2.0\n",
      "2023-07-12 16:44:39 - Exception: ValueError - An example exception occurred\n"
     ]
    }
   ],
   "source": [
    "import logging\n",
    "import datetime\n",
    "\n",
    "# Configure logging\n",
    "logging.basicConfig(\n",
    "    level=logging.ERROR,\n",
    "    format='%(asctime)s - %(levelname)s - %(message)s'\n",
    ")\n",
    "\n",
    "# Create a file handler for error logs\n",
    "error_handler = logging.FileHandler('errors.log')\n",
    "error_handler.setLevel(logging.ERROR)\n",
    "error_handler.setFormatter(logging.Formatter('%(asctime)s - %(levelname)s - %(message)s'))\n",
    "\n",
    "# Add the file handler to the logger\n",
    "logger = logging.getLogger(__name__)\n",
    "logger.addHandler(error_handler)\n",
    "\n",
    "try:\n",
    "    a=44\n",
    "    b=22\n",
    "    try:\n",
    "        result = a / b\n",
    "        print(result)\n",
    "    except InvalidInputError as e:\n",
    "        print(e)\n",
    "        # Simulating an exception\n",
    "    raise ValueError(\"An example exception occurred\")\n",
    "\n",
    "except Exception as e:\n",
    "    # Log the exception\n",
    "    timestamp = datetime.datetime.now().strftime('%Y-%m-%d %H:%M:%S')\n",
    "    error_message = f\"{timestamp} - Exception: {type(e).__name__} - {str(e)}\"\n",
    "    logger.error(error_message)\n",
    "\n",
    "    # Print the exception to the console\n",
    "    print(error_message)\n"
   ]
  }
 ],
 "metadata": {
  "kernelspec": {
   "display_name": "Python 3 (ipykernel)",
   "language": "python",
   "name": "python3"
  },
  "language_info": {
   "codemirror_mode": {
    "name": "ipython",
    "version": 3
   },
   "file_extension": ".py",
   "mimetype": "text/x-python",
   "name": "python",
   "nbconvert_exporter": "python",
   "pygments_lexer": "ipython3",
   "version": "3.9.12"
  }
 },
 "nbformat": 4,
 "nbformat_minor": 5
}
