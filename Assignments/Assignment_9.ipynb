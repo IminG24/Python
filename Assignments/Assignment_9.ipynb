{
 "cells": [
  {
   "cell_type": "markdown",
   "id": "d5847969",
   "metadata": {},
   "source": [
    "## 1. What is a lambda function in Python, and how does it differ from a regular function?\n",
    "-------------------------------------------------------------------------------------------------------------------------------\n",
    "\n",
    "**Answer:**  \n",
    "\n",
    "A lambda function is a small anonymous function that can be defined without a name.Lambda functions are typically used in situations where a small function is needed for a short period of time and creating a named function would be unnecessary or cumbersome. They are commonly used in combination with built-in functions like map(), filter(), and reduce(), which expect a function as an argument.\n",
    "\n",
    "The main differences between lambda functions and regular functions are:syntax, name, complexity"
   ]
  },
  {
   "cell_type": "code",
   "execution_count": 1,
   "id": "393c5433",
   "metadata": {},
   "outputs": [
    {
     "name": "stdout",
     "output_type": "stream",
     "text": [
      "25\n",
      "25\n"
     ]
    }
   ],
   "source": [
    "# Regular function\n",
    "def square(x):\n",
    "    return x ** 2\n",
    "\n",
    "# Equivalent lambda function\n",
    "square_lambda = lambda x: x ** 2\n",
    "\n",
    "# Calling regular function\n",
    "print(square(5))  # Output: 25\n",
    "\n",
    "# Calling lambda function\n",
    "print(square_lambda(5))  # Output: 25"
   ]
  },
  {
   "cell_type": "markdown",
   "id": "669747ce",
   "metadata": {},
   "source": [
    "## 2. Can a lambda function in Python have multiple arguments? If yes, how can you define and use them?\n",
    "\n",
    "-------------------------------------------------------------------------------------------------------------------------------\n",
    "\n",
    "**Answer:**  \n",
    "    \n",
    "Yes, a lambda function in Python can have multiple arguments. A lambda function is an anonymous function that can take any number of arguments, but it can only have a single expression. "
   ]
  },
  {
   "cell_type": "code",
   "execution_count": 2,
   "id": "ea3e5dc5",
   "metadata": {},
   "outputs": [
    {
     "name": "stdout",
     "output_type": "stream",
     "text": [
      "5\n"
     ]
    }
   ],
   "source": [
    "add = lambda x, y: x + y\n",
    "result = add(2, 3)\n",
    "print(result)"
   ]
  },
  {
   "cell_type": "markdown",
   "id": "b8e56df8",
   "metadata": {},
   "source": [
    "## 3. How are lambda functions typically used in Python? Provide an example use case.\n",
    "\n",
    "-------------------------------------------------------------------------------------------------------------------------------\n",
    "\n",
    "**Answer:** \n",
    "\n",
    "They are often used as arguments to higher-order functions, such as map(), filter(), and reduce(), which expect a function as an argument.\n",
    "One common use case for lambda functions is in data manipulation and filtering. "
   ]
  },
  {
   "cell_type": "code",
   "execution_count": 3,
   "id": "3ada2c17",
   "metadata": {},
   "outputs": [
    {
     "name": "stdout",
     "output_type": "stream",
     "text": [
      "[2, 4, 6, 8, 10]\n"
     ]
    }
   ],
   "source": [
    "numbers = [1, 2, 3, 4, 5, 6, 7, 8, 9, 10]\n",
    "even_numbers = list(filter(lambda x: x % 2 == 0, numbers))\n",
    "print(even_numbers)"
   ]
  },
  {
   "cell_type": "markdown",
   "id": "a79b6a3e",
   "metadata": {},
   "source": [
    "## 4. What are the advantages and limitations of lambda functions compared to regular functions in Python?\n",
    "\n",
    "-------------------------------------------------------------------------------------------------------------------------------\n",
    "\n",
    "**Answer:** \n",
    "\n",
    "Lambda functions in Python have several advantages compared to regular functions:\n",
    "\n",
    "1. Lambda functions allow you to define simple, one-line functions without the need for a full function definition.\n",
    "2. Lambda functions are anonymous, meaning they don't require a separate name. \n",
    "3. Lambda functions can be defined inline at the point of use, making the code more readable and reducing the need to jump between different parts of the code to understand the function's purpose.\n",
    "\n",
    "limitations:\n",
    "\n",
    "1. Lambda functions can only contain a single expression, which means they are limited in terms of complexity compared to regular functions.\n",
    "2. Lambda functions can only contain expressions, not statements. \n",
    "3. Since lambda functions don't have a named identifier, debugging them can be more challenging. "
   ]
  },
  {
   "cell_type": "markdown",
   "id": "f39cb67d",
   "metadata": {},
   "source": [
    "## 5. Are lambda functions in Python able to access variables defined outside of their own scope? Explain with an example.\n",
    "\n",
    "-------------------------------------------------------------------------------------------------------------------------------\n",
    "\n",
    "**Answer:** \n",
    "\n",
    "Yes, lambda functions in Python can access variables defined outside of their own scope. This is achieved through the concept of \"closures\" in Python.\n",
    "A closure is a function object that remembers values in the enclosing lexical scope even if they are not present in memory. Lambda functions are capable of creating closures and accessing variables from the enclosing scope."
   ]
  },
  {
   "cell_type": "code",
   "execution_count": 7,
   "id": "5ed6e357",
   "metadata": {},
   "outputs": [
    {
     "name": "stdout",
     "output_type": "stream",
     "text": [
      "52\n"
     ]
    }
   ],
   "source": [
    "def outer_function(x):\n",
    "    multiplier = 5\n",
    "    return lambda y: x * multiplier + y\n",
    "\n",
    "# Create a closure\n",
    "my_lambda = outer_function(10)\n",
    "\n",
    "# Call the lambda function\n",
    "result = my_lambda(2)\n",
    "print(result)"
   ]
  },
  {
   "cell_type": "markdown",
   "id": "77390d49",
   "metadata": {},
   "source": [
    "## 6. Write a lambda function to calculate the square of a given number.\n",
    "\n",
    "-------------------------------------------------------------------------------------------------------------------------------\n",
    "\n",
    "**Answer:** "
   ]
  },
  {
   "cell_type": "code",
   "execution_count": 8,
   "id": "6ebe6412",
   "metadata": {},
   "outputs": [
    {
     "data": {
      "text/plain": [
       "25"
      ]
     },
     "execution_count": 8,
     "metadata": {},
     "output_type": "execute_result"
    }
   ],
   "source": [
    "square = lambda x: x ** 2\n",
    "square(5)"
   ]
  },
  {
   "cell_type": "markdown",
   "id": "38db9cac",
   "metadata": {},
   "source": [
    "## 7. Create a lambda function to find the maximum value in a list of integers.\n",
    "\n",
    "-------------------------------------------------------------------------------------------------------------------------------\n",
    "\n",
    "**Answer:** "
   ]
  },
  {
   "cell_type": "code",
   "execution_count": 10,
   "id": "d543d78b",
   "metadata": {},
   "outputs": [
    {
     "name": "stdout",
     "output_type": "stream",
     "text": [
      "555\n"
     ]
    }
   ],
   "source": [
    "numbers = [555, 85, 25, 105, 35]\n",
    "max_value = lambda lst: max(lst)\n",
    "result = max_value(numbers)\n",
    "print(result)"
   ]
  },
  {
   "cell_type": "markdown",
   "id": "dda67013",
   "metadata": {},
   "source": [
    "## 8. Implement a lambda function to filter out all the even numbers from a list of integers.\n",
    "\n",
    "-------------------------------------------------------------------------------------------------------------------------------\n",
    "\n",
    "**Answer:** "
   ]
  },
  {
   "cell_type": "code",
   "execution_count": 11,
   "id": "7d80b2ff",
   "metadata": {},
   "outputs": [
    {
     "data": {
      "text/plain": [
       "[2, 4, 6, 8, 10]"
      ]
     },
     "execution_count": 11,
     "metadata": {},
     "output_type": "execute_result"
    }
   ],
   "source": [
    "numbers = [1, 2, 3, 4, 5, 6, 7, 8, 9, 10]\n",
    "list(filter(lambda x: x % 2 == 0, numbers))"
   ]
  },
  {
   "cell_type": "markdown",
   "id": "6a011891",
   "metadata": {},
   "source": [
    "## 9. Write a lambda function to sort a list of strings in ascending order based on the length of each string.\n",
    "\n",
    "-------------------------------------------------------------------------------------------------------------------------------\n",
    "\n",
    "**Answer:** "
   ]
  },
  {
   "cell_type": "code",
   "execution_count": 12,
   "id": "22dd3d4d",
   "metadata": {},
   "outputs": [
    {
     "name": "stdout",
     "output_type": "stream",
     "text": [
      "['kiwi', 'apple', 'grape', 'banana', 'orange']\n"
     ]
    }
   ],
   "source": [
    "strings = [\"apple\", \"banana\", \"orange\", \"kiwi\", \"grape\"]\n",
    "sorted_strings = sorted(strings, key=lambda x: len(x))\n",
    "print(sorted_strings)"
   ]
  },
  {
   "cell_type": "markdown",
   "id": "ac455369",
   "metadata": {},
   "source": [
    "## 10. Create a lambda function that takes two lists as input and returns a new list containing the common elements between the two lists.\n",
    "\n",
    "-------------------------------------------------------------------------------------------------------------------------------\n",
    "\n",
    "**Answer:** "
   ]
  },
  {
   "cell_type": "code",
   "execution_count": 13,
   "id": "cf4fc304",
   "metadata": {},
   "outputs": [
    {
     "data": {
      "text/plain": [
       "[4, 5]"
      ]
     },
     "execution_count": 13,
     "metadata": {},
     "output_type": "execute_result"
    }
   ],
   "source": [
    "list1 = [1, 2, 3, 4, 5]\n",
    "list2 = [4, 5, 6, 7, 8]\n",
    "common_elements = list(filter(lambda x: x in list2, list1))\n",
    "common_elements"
   ]
  },
  {
   "cell_type": "markdown",
   "id": "d7fcd7d9",
   "metadata": {},
   "source": [
    "## 11. Write a recursive function to calculate the factorial of a given positive integer.\n",
    "\n",
    "-------------------------------------------------------------------------------------------------------------------------------\n",
    "\n",
    "**Answer:** "
   ]
  },
  {
   "cell_type": "code",
   "execution_count": 14,
   "id": "b315f3f7",
   "metadata": {},
   "outputs": [
    {
     "name": "stdout",
     "output_type": "stream",
     "text": [
      "362880\n"
     ]
    }
   ],
   "source": [
    "def factorial(n):\n",
    "    if n == 0:\n",
    "        return 1\n",
    "    else:\n",
    "        return n * factorial(n - 1)\n",
    "result = factorial(9)\n",
    "print(result) "
   ]
  },
  {
   "cell_type": "markdown",
   "id": "2de2aa44",
   "metadata": {},
   "source": [
    "## 12. Implement a recursive function to compute the nth Fibonacci number.\n",
    "\n",
    "-------------------------------------------------------------------------------------------------------------------------------\n",
    "\n",
    "**Answer:** "
   ]
  },
  {
   "cell_type": "code",
   "execution_count": 19,
   "id": "686cd20b",
   "metadata": {},
   "outputs": [
    {
     "name": "stdout",
     "output_type": "stream",
     "text": [
      "5\n"
     ]
    }
   ],
   "source": [
    "def fibonacci(n):\n",
    "    if n <= 0:\n",
    "        raise ValueError(\"Input must be a positive integer.\")\n",
    "    elif n == 1 or n == 2:\n",
    "        return 1\n",
    "    else:\n",
    "        return fibonacci(n - 1) + fibonacci(n - 2)\n",
    "result = fibonacci(5)\n",
    "print(result)"
   ]
  },
  {
   "cell_type": "markdown",
   "id": "8d45e5b0",
   "metadata": {},
   "source": [
    "## 13. Create a recursive function to find the sum of all the elements in a given list.\n",
    "\n",
    "-------------------------------------------------------------------------------------------------------------------------------\n",
    "\n",
    "**Answer:** "
   ]
  },
  {
   "cell_type": "code",
   "execution_count": 20,
   "id": "f01e9557",
   "metadata": {},
   "outputs": [
    {
     "name": "stdout",
     "output_type": "stream",
     "text": [
      "15\n"
     ]
    }
   ],
   "source": [
    "def recursive_sum(lst):\n",
    "    if len(lst) == 0:\n",
    "        return 0\n",
    "    else:\n",
    "        return lst[0] + recursive_sum(lst[1:])\n",
    "numbers = [1, 2, 3, 4, 5]\n",
    "result = recursive_sum(numbers)\n",
    "print(result) "
   ]
  },
  {
   "cell_type": "markdown",
   "id": "089ff1cd",
   "metadata": {},
   "source": [
    "## 14. Write a recursive function to determine whether a given string is a palindrome.\n",
    "\n",
    "-------------------------------------------------------------------------------------------------------------------------------\n",
    "\n",
    "**Answer:** "
   ]
  },
  {
   "cell_type": "code",
   "execution_count": 22,
   "id": "30fd0b80",
   "metadata": {},
   "outputs": [
    {
     "name": "stdout",
     "output_type": "stream",
     "text": [
      "True\n",
      "False\n"
     ]
    }
   ],
   "source": [
    "def is_palindrome(string):\n",
    "    if len(string) <= 1:\n",
    "        return True\n",
    "    else:\n",
    "        first_char = string[0]\n",
    "        last_char = string[-1]\n",
    "        if first_char == last_char:\n",
    "            return is_palindrome(string[1:-1])\n",
    "        else:\n",
    "            return False\n",
    "result1 = is_palindrome(\"racecar\")\n",
    "print(result1)  \n",
    "\n",
    "result2 = is_palindrome(\"you\")\n",
    "print(result2)  \n"
   ]
  },
  {
   "cell_type": "markdown",
   "id": "a40f1d61",
   "metadata": {},
   "source": [
    "## 15. Implement a recursive function to find the greatest common divisor (GCD) of two positive integers.\n",
    "\n",
    "-------------------------------------------------------------------------------------------------------------------------------\n",
    "\n",
    "**Answer:**"
   ]
  },
  {
   "cell_type": "code",
   "execution_count": 23,
   "id": "18bd4114",
   "metadata": {},
   "outputs": [
    {
     "name": "stdout",
     "output_type": "stream",
     "text": [
      "12\n"
     ]
    }
   ],
   "source": [
    "def gcd(a, b):\n",
    "    if b == 0:\n",
    "        return a\n",
    "    else:\n",
    "        return gcd(b, a % b)\n",
    "result = gcd(36, 48)\n",
    "print(result) "
   ]
  }
 ],
 "metadata": {
  "kernelspec": {
   "display_name": "Python 3 (ipykernel)",
   "language": "python",
   "name": "python3"
  },
  "language_info": {
   "codemirror_mode": {
    "name": "ipython",
    "version": 3
   },
   "file_extension": ".py",
   "mimetype": "text/x-python",
   "name": "python",
   "nbconvert_exporter": "python",
   "pygments_lexer": "ipython3",
   "version": "3.9.12"
  }
 },
 "nbformat": 4,
 "nbformat_minor": 5
}
