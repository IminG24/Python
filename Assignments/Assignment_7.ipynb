{
 "cells": [
  {
   "cell_type": "markdown",
   "id": "4c3b5a67",
   "metadata": {},
   "source": [
    "Q.1. Create two int type variables, apply addition, subtraction, division and multiplications\n",
    "and store the results in variables. Then print the data in the following format by calling the\n",
    "variables:\n",
    "First variable is __ & second variable is __.\n",
    "Addition: __ + __ = __\n",
    "Subtraction: __ - __ = __\n",
    "Multiplication: __ * __ = __\n",
    "Division: __ / __ = __"
   ]
  },
  {
   "cell_type": "code",
   "execution_count": 1,
   "id": "7debccc0",
   "metadata": {},
   "outputs": [
    {
     "name": "stdout",
     "output_type": "stream",
     "text": [
      "First variable is 50 & second variable is 100\n",
      "Addition: 50 + 100 = 150\n",
      "Subtraction: 50 - 100 = -50\n",
      "Multiplication: 50 * 100 = 5000\n",
      "Division: 50 / 100 = 0.5\n"
     ]
    }
   ],
   "source": [
    "a = 50\n",
    "b = 100\n",
    "\n",
    "addition = a + b\n",
    "subtraction = a - b\n",
    "multiplication = a * b\n",
    "division = a / b\n",
    "\n",
    "#step3: print the variables\n",
    "print(\"First variable is\", a, \"& second variable is\", b)\n",
    "print(\"Addition:\", a, \"+\", b, \"=\", addition)\n",
    "print(\"Subtraction:\", a, \"-\", b, \"=\", subtraction)\n",
    "print(\"Multiplication:\", a, \"*\", b, \"=\", multiplication)\n",
    "print(\"Division:\", a, \"/\", b, \"=\", division)"
   ]
  },
  {
   "cell_type": "markdown",
   "id": "e0a6c8b1",
   "metadata": {},
   "source": [
    "Q.2. What is the difference between the following operators:\n",
    "(i) ‘/’ & ‘//’\n",
    "(ii) ‘**’ & ‘^’\n",
    "\n",
    "A: \n",
    "'/' is the division operator in Python that performs floating-point division. It returns the exact quotient of the division, including the decimal part.\n",
    "// is the floor division operator in Python. It performs division and returns the largest integer less than or equal to the exact quotient.\n",
    "** is the exponentiation operator in Python. It raises the base number to the power of the exponent.\n",
    "^ is not the exponentiation operator in Python. Instead, it is the bitwise XOR (exclusive OR) operator. It performs a bitwise operation on the binary representation of two integers."
   ]
  },
  {
   "cell_type": "code",
   "execution_count": 2,
   "id": "95e65640",
   "metadata": {},
   "outputs": [
    {
     "name": "stdout",
     "output_type": "stream",
     "text": [
      "3.3333333333333335\n",
      "3\n",
      "8\n",
      "12\n"
     ]
    }
   ],
   "source": [
    "result = 10 / 3\n",
    "print(result) \n",
    "\n",
    "result = 10 // 3\n",
    "print(result)  \n",
    "\n",
    "result = 2 ** 3\n",
    "print(result)  \n",
    "\n",
    "result = 10 ^ 6\n",
    "print(result) \n"
   ]
  },
  {
   "cell_type": "markdown",
   "id": "01395ba7",
   "metadata": {},
   "source": [
    "Q.3. List the logical operators.\n",
    "\n",
    "A:\n",
    "\n",
    "The 3 main logical operators are OR, AND, NOT\n",
    "\n",
    "AND: It returns true if both operands are true; otherwise, it returns false.\n",
    "OR : It returns true if at least one of the operands is true; if both operands are false, it returns false.\n",
    "NOT: It reverses the logical state of its operand. If the operand is true, it returns false, and if the operand is false, it returns true."
   ]
  },
  {
   "cell_type": "markdown",
   "id": "ca5dd45f",
   "metadata": {},
   "source": [
    "Q.4. Explain right shift operator and left shift operator with examples.\n",
    "\n",
    "A:\n",
    "\n",
    "The right shift operator (>>), also known as the signed right shift, and the left shift operator (<<) are bitwise operators commonly used in programming languages.\n",
    "\n",
    "These operators manipulate the binary representation of numbers by shifting the bits to the right or left.\n",
    "\n",
    "The right shift operator (>>):\n",
    "The right shift operator shifts the bits of a number to the right by a specified number of positions. It is commonly used to perform division by powers of 2. \n",
    "Example:\n",
    "\n",
    "Before shifting: 00001100\n",
    "After shifting: 00000011\n",
    "\n",
    "The left shift operator (<<):\n",
    "The left shift operator shifts the bits of a number to the left by a specified number of positions. It is commonly used to perform multiplication by powers of 2. \n",
    "Example:\n",
    "\n",
    "Before shifting: 00000101\n",
    "After shifting: 00101000"
   ]
  },
  {
   "cell_type": "markdown",
   "id": "e5f63eb7",
   "metadata": {},
   "source": [
    "Q.5. Create a list containing int type data of length 15. Then write a code to check if 10 is\n",
    "present in the list or not."
   ]
  },
  {
   "cell_type": "code",
   "execution_count": 3,
   "id": "318e0759",
   "metadata": {},
   "outputs": [
    {
     "name": "stdout",
     "output_type": "stream",
     "text": [
      "The number 10 is present in the list.\n"
     ]
    }
   ],
   "source": [
    "# Create a list of integers\n",
    "my_list = [5, 2, 8, 10, 15, 3, 9, 6, 7, 12, 1, 4, 11, 13, 14]\n",
    "\n",
    "# Check if 10 is present in the list\n",
    "if 10 in my_list:\n",
    "    print(\"The number 10 is present in the list.\")\n",
    "else:\n",
    "    print(\"The number 10 is not present in the list.\")"
   ]
  }
 ],
 "metadata": {
  "kernelspec": {
   "display_name": "Python 3 (ipykernel)",
   "language": "python",
   "name": "python3"
  },
  "language_info": {
   "codemirror_mode": {
    "name": "ipython",
    "version": 3
   },
   "file_extension": ".py",
   "mimetype": "text/x-python",
   "name": "python",
   "nbconvert_exporter": "python",
   "pygments_lexer": "ipython3",
   "version": "3.9.12"
  }
 },
 "nbformat": 4,
 "nbformat_minor": 5
}
