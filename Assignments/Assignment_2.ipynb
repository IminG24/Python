{
 "cells": [
  {
   "cell_type": "markdown",
   "id": "4ba995a2",
   "metadata": {},
   "source": [
    "## 1. What are the two values of the Boolean data type? How do you write them?\n",
    "\n",
    "-------------------------------------------------------------------------------------------------------------------------------\n",
    "\n",
    "**Answer:**  \n",
    "\n",
    "True/False <br>\n",
    "1/0"
   ]
  },
  {
   "cell_type": "markdown",
   "id": "88823aaa",
   "metadata": {},
   "source": [
    "## 2. What are the three different types of Boolean operators?\n",
    "\n",
    "-------------------------------------------------------------------------------------------------------------------------------\n",
    "\n",
    "**Answer:**  \n",
    "\n",
    "AND, OR, NOT"
   ]
  },
  {
   "cell_type": "markdown",
   "id": "20c070ea",
   "metadata": {},
   "source": [
    "3. Make a list of each Boolean operator's truth tables (i.e. every possible combination of Boolean values for the operator and what it evaluate ).\n",
    "\n",
    "-------------------------------------------------------------------------------------------------------------------------------\n",
    "\n",
    "**Answer:**  \n",
    "\n",
    "| A | B | AND | OR | XOR | NOT |\n",
    "| --- | --- | --- | --- | --- | --- |\n",
    "| 0 | 0 | 0 | 0 | 0 | 1 |\n",
    "| 0 | 1 | 0 | 1 | 1 | 1 |\n",
    "| 1 | 0 | 0 | 1 | 1 | 0 |\n",
    "| 1 | 1 | 1 | 1 | 0 | 0 |"
   ]
  },
  {
   "cell_type": "markdown",
   "id": "698016b4",
   "metadata": {},
   "source": [
    "\n",
    "## 4. What are the values of the following expressions?\n",
    "\n",
    "-------------------------------------------------------------------------------------------------------------------------------\n",
    "\n",
    "**Answer:**  \n",
    "\n",
    "(5 > 4) and (3 == 5) : 0 <br>\n",
    "not (5 > 4) : 0 <br>\n",
    "(5 > 4) or (3 == 5) : 1 <br>\n",
    "not ((5 > 4) or (3 == 5)) : 0 <br>\n",
    "(True and True) and (True == False) : 0 <br>\n",
    "(not False) or (not True) : 1"
   ]
  },
  {
   "cell_type": "markdown",
   "id": "a2fba63f",
   "metadata": {},
   "source": [
    "## 5. What are the six comparison operators?\n",
    "\n",
    "-------------------------------------------------------------------------------------------------------------------------------\n",
    "\n",
    "**Answer:**  \n",
    "\n",
    "$ <,>,>=,<=,==,!=$"
   ]
  },
  {
   "cell_type": "markdown",
   "id": "9ad9f11a",
   "metadata": {},
   "source": [
    "## 6. How do you tell the difference between the equal to and assignment operators?Describe a condition and when you would use one.\n",
    "\n",
    "-------------------------------------------------------------------------------------------------------------------------------\n",
    "\n",
    "**Answer:**  \n",
    "\n",
    "Equal to operator (==) is a comparison operator used to check if two values are equal. \n",
    "Assignment operator (=) is an assignment operator used to assign a value to a variable. "
   ]
  },
  {
   "cell_type": "code",
   "execution_count": 5,
   "id": "2d0bd887",
   "metadata": {},
   "outputs": [
    {
     "name": "stdout",
     "output_type": "stream",
     "text": [
      "x is not equal to y\n"
     ]
    }
   ],
   "source": [
    "x =  5 \n",
    "y =  10 \n",
    "if x == y:\n",
    "    print(\"x is equal to y\")\n",
    "else :\n",
    "    print(\"x is not equal to y\")"
   ]
  },
  {
   "cell_type": "markdown",
   "id": "07784b7c",
   "metadata": {},
   "source": [
    "## 7. Identify the three blocks in this code:\n",
    "\n",
    "spam = 0 <br>\n",
    "if spam == 10: <br>\n",
    "print('eggs') <br>\n",
    "if spam > 5: <br>\n",
    "print('bacon') <br>\n",
    "else: <br>\n",
    "print('ham') <br>\n",
    "print('spam') <br>\n",
    "print('spam') <br>\n",
    "\n",
    "-------------------------------------------------------------------------------------------------------------------------------\n",
    "\n",
    "**Answer:**  "
   ]
  },
  {
   "cell_type": "code",
   "execution_count": 7,
   "id": "7552e95a",
   "metadata": {},
   "outputs": [
    {
     "name": "stdout",
     "output_type": "stream",
     "text": [
      "ham\n",
      "spam\n",
      "spam\n"
     ]
    }
   ],
   "source": [
    "spam = 0\n",
    "\n",
    "if spam == 10:\n",
    "    print('eggs') #1st block\n",
    "    \n",
    "if spam > 5:\n",
    "    print('bacon')\n",
    "else:\n",
    "    print('ham') #2nd block\n",
    "    \n",
    "    \n",
    "print('spam') #3rd block\n",
    "\n",
    "print('spam') "
   ]
  },
  {
   "cell_type": "markdown",
   "id": "805244ea",
   "metadata": {},
   "source": [
    "## 8. Write code that prints Hello if 1 is stored in spam, prints Howdy if 2 is stored in spam, and prints Greetings! if anything else is stored in spam.\n",
    "\n",
    "-------------------------------------------------------------------------------------------------------------------------------\n",
    "\n",
    "**Answer:**  "
   ]
  },
  {
   "cell_type": "code",
   "execution_count": 10,
   "id": "e461ed22",
   "metadata": {},
   "outputs": [
    {
     "name": "stdout",
     "output_type": "stream",
     "text": [
      "Hello\n"
     ]
    }
   ],
   "source": [
    "spam = 1 \n",
    "if spam == 1: \n",
    "    print(\"Hello\") \n",
    "elif spam == 2:\n",
    "    print(\"Howdy\") \n",
    "else:\n",
    "    print(\"Greetings!\") "
   ]
  },
  {
   "cell_type": "markdown",
   "id": "44c7bd69",
   "metadata": {},
   "source": [
    "## 9. If your programme is stuck in an endless loop, what keys you’ll press?\n",
    "\n",
    "-------------------------------------------------------------------------------------------------------------------------------\n",
    "\n",
    "**Answer:**  \n",
    "\n",
    "ctrl+c, Ctrl+Break"
   ]
  },
  {
   "cell_type": "markdown",
   "id": "0be60983",
   "metadata": {},
   "source": [
    "## 10. How can you tell the difference between break and continue?\n",
    "\n",
    "-------------------------------------------------------------------------------------------------------------------------------\n",
    "\n",
    "**Answer:**  \n",
    "\n",
    "Break statement is used to stop the execution of the current loop. And continue is used to skip the remaining statements of the current loop and move to next step."
   ]
  },
  {
   "cell_type": "markdown",
   "id": "6f8e0cef",
   "metadata": {},
   "source": [
    "## 11. In a for loop, what is the difference between range(10), range(0, 10), and range(0, 10, 1)?\n",
    "\n",
    "-------------------------------------------------------------------------------------------------------------------------------\n",
    "\n",
    "**Answer:**  \n",
    "\n",
    "Only syntax is different but result is same here for all 3.\n",
    "For range(10) will print 0 to 9, for range(0,10) will start from 0 and print upto 9, for range(0,10,1) the step size is mentioned which is 1 here starting from 0 to9."
   ]
  },
  {
   "cell_type": "markdown",
   "id": "1686730c",
   "metadata": {},
   "source": [
    "## 12. Write a short program that prints the numbers 1 to 10 using a for loop. Then write an equivalent program that prints the numbers 1 to 10 using a while loop.\n",
    "\n",
    "-------------------------------------------------------------------------------------------------------------------------------\n",
    "\n",
    "**Answer:**  "
   ]
  },
  {
   "cell_type": "code",
   "execution_count": null,
   "id": "43e0f51e",
   "metadata": {},
   "outputs": [],
   "source": [
    "for i in range(1, 11):\n",
    "    print(i)\n",
    "\n",
    "i=1 \n",
    "while i<=10:\n",
    "    print(i) \n",
    "i+=1"
   ]
  },
  {
   "cell_type": "markdown",
   "id": "7f42d04a",
   "metadata": {},
   "source": [
    "## 13. If you had a function named bacon() inside a module named spam, how would you call it after importing spam?\n",
    "\n",
    "-------------------------------------------------------------------------------------------------------------------------------\n",
    "\n",
    "**Answer:**  \n",
    "\n",
    "spam.bacon()"
   ]
  }
 ],
 "metadata": {
  "kernelspec": {
   "display_name": "Python 3 (ipykernel)",
   "language": "python",
   "name": "python3"
  },
  "language_info": {
   "codemirror_mode": {
    "name": "ipython",
    "version": 3
   },
   "file_extension": ".py",
   "mimetype": "text/x-python",
   "name": "python",
   "nbconvert_exporter": "python",
   "pygments_lexer": "ipython3",
   "version": "3.9.12"
  }
 },
 "nbformat": 4,
 "nbformat_minor": 5
}
