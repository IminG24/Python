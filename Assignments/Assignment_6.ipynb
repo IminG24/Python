{
 "cells": [
  {
   "cell_type": "markdown",
   "id": "31478828",
   "metadata": {},
   "source": [
    "1. What are keywords in python? Using the keyword library, print all the python keywords. \n",
    "\n",
    "A:\n",
    " Keywords in Python are reserved words that have special meanings and purposes. These keywords cannot be used as variable names because they are already predefined and used to define the syntax and structure of the Python language. "
   ]
  },
  {
   "cell_type": "code",
   "execution_count": 24,
   "id": "d13a55c6",
   "metadata": {},
   "outputs": [
    {
     "name": "stdout",
     "output_type": "stream",
     "text": [
      "['False', 'None', 'True', '__peg_parser__', 'and', 'as', 'assert', 'async', 'await', 'break', 'class', 'continue', 'def', 'del', 'elif', 'else', 'except', 'finally', 'for', 'from', 'global', 'if', 'import', 'in', 'is', 'lambda', 'nonlocal', 'not', 'or', 'pass', 'raise', 'return', 'try', 'while', 'with', 'yield']\n"
     ]
    }
   ],
   "source": [
    "import keyword\n",
    "\n",
    "all_keywords = keyword.kwlist\n",
    "print(all_keywords)"
   ]
  },
  {
   "cell_type": "markdown",
   "id": "a5577c80",
   "metadata": {},
   "source": [
    "2. What are the rules to create variables in python?\n",
    "\n",
    "A:  \n",
    "Variable names can contain letters (a-z, A-Z), digits (0-9), and underscores (_).\n",
    "A variable name must start with a letter or an underscore.\n",
    "Variable names are case-sensitive, meaning myVariable and myvariable are considered different variables.\n",
    "Python keywords cannot be used as variable names.\n",
    "Variable names should be descriptive and follow a naming convention."
   ]
  },
  {
   "cell_type": "markdown",
   "id": "bc07f98b",
   "metadata": {},
   "source": [
    "3. What are the standards and conventions followed for the nomenclature of variables in python to improve code readability and maintainability?\n",
    "\n",
    "\n",
    "A: \n",
    "Use lowercase letters and underscores to separate words in variable names (e.g., my_variable).\n",
    "Variable names should be descriptive and meaningful.\n",
    "Avoid using single-letter variable names, except for simple loop counters.\n",
    "Constants should be written in uppercase (e.g., PI = 3.14159).\n",
    "Private variables or attributes are often prefixed with a single underscore (e.g., _private_variable).\n",
    "Avoid using reserved words or keywords as variable names.\n",
    "These conventions help improve the readability and understandability of the code."
   ]
  },
  {
   "cell_type": "markdown",
   "id": "07004f1a",
   "metadata": {},
   "source": [
    "4. What will happen if a keyword is used as a variable name?\n",
    "\n",
    "A: \n",
    "will result in syntax error."
   ]
  },
  {
   "cell_type": "markdown",
   "id": "c7d81605",
   "metadata": {},
   "source": [
    "5.  For what purpose def keyword is used?\n",
    "\n",
    "A: \n",
    "The def keyword is used to define a function in Python. It is followed by the function name and a block of code that defines the function's behavior. Functions allow you to encapsulate reusable code, organize logic, and make your code modular and easier to maintain."
   ]
  },
  {
   "cell_type": "code",
   "execution_count": 26,
   "id": "f1160492",
   "metadata": {},
   "outputs": [
    {
     "name": "stdout",
     "output_type": "stream",
     "text": [
      "1435345340\n"
     ]
    }
   ],
   "source": [
    "def my_function():\n",
    "    x = 1435345340 \n",
    "    print(x)  \n",
    "my_function()"
   ]
  },
  {
   "cell_type": "markdown",
   "id": "7609fd27",
   "metadata": {},
   "source": [
    "6. What is the operation of this special character ‘\\’?\n",
    "\n",
    "A: \n",
    "  Its a escape character. It is used to special characters and indicate certain special sequences."
   ]
  },
  {
   "cell_type": "code",
   "execution_count": 27,
   "id": "a18f953b",
   "metadata": {},
   "outputs": [
    {
     "name": "stdout",
     "output_type": "stream",
     "text": [
      "Hello\n",
      "Assignment:|\n"
     ]
    }
   ],
   "source": [
    "print(\"Hello\\nAssignment:|\") #/n is newline character"
   ]
  },
  {
   "cell_type": "markdown",
   "id": "96edb8d7",
   "metadata": {},
   "source": [
    " 7. Give an example of the following conditions:\n",
    "(i) Homogeneous list\n",
    "(ii) Heterogeneous set\n",
    "(iii) Homogeneous tuple\n",
    "A:\n",
    "A homogeneous list contains elements of the same type.\n",
    "A heterogeneous set contains elements of different types.\n",
    "A homogeneous tuple contains elements of the same type."
   ]
  },
  {
   "cell_type": "code",
   "execution_count": 28,
   "id": "f5e6d358",
   "metadata": {},
   "outputs": [],
   "source": [
    "numbers = [1, 2, 3, 4, 5] #Homogeneous list\n",
    "my_set = {1, 'hello', True, 3.14} #Heterogeneous set\n",
    "fruits = ('apple', 'banana', 'orange') #Homogeneous tuple"
   ]
  },
  {
   "cell_type": "markdown",
   "id": "0e9b4a74",
   "metadata": {},
   "source": [
    "8. Explain the mutable and immutable data types with proper explanation & examples.\n",
    "\n",
    "A:\n",
    "\n",
    "Mutable datatypes can be modified after they have been defined but immutable datatypes cannot be modified once they are created.\n",
    "Eg: passwords: immutables\n",
    "Lists, dictionaries, and sets are mutable.\n",
    "Integers, floats, strings, and tuples are immutable."
   ]
  },
  {
   "cell_type": "markdown",
   "id": "21f967f3",
   "metadata": {},
   "source": [
    "9. Write a code to create the given structure using only for loop."
   ]
  },
  {
   "cell_type": "code",
   "execution_count": 32,
   "id": "dc52e10a",
   "metadata": {},
   "outputs": [
    {
     "name": "stdout",
     "output_type": "stream",
     "text": [
      "        * \n",
      "      * * * \n",
      "    * * * * * \n",
      "  * * * * * * * \n",
      "* * * * * * * * * \n"
     ]
    }
   ],
   "source": [
    "steps = 5\n",
    "for i in range(steps):\n",
    "    for j in range(steps - i - 1):\n",
    "        print(\" \", end=\" \")\n",
    "    for k in range(2 * i + 1):\n",
    "        print(\"*\", end=\" \")\n",
    "    print()"
   ]
  },
  {
   "cell_type": "markdown",
   "id": "c68219ea",
   "metadata": {},
   "source": [
    "10. Write a code to create the given structure using while loop."
   ]
  },
  {
   "cell_type": "code",
   "execution_count": 33,
   "id": "80efe48d",
   "metadata": {},
   "outputs": [
    {
     "name": "stdout",
     "output_type": "stream",
     "text": [
      "| | | | | | \n",
      " | | | | | \n",
      "  | | | | \n",
      "   | | | \n",
      "    | | \n"
     ]
    }
   ],
   "source": [
    "rows = 5 \n",
    "spaces = 0  \n",
    "\n",
    "while rows > 0:\n",
    "    print(\" \" * spaces + \"| \" * rows + \"| \")\n",
    "    spaces += 1\n",
    "    rows -= 1"
   ]
  }
 ],
 "metadata": {
  "kernelspec": {
   "display_name": "Python 3 (ipykernel)",
   "language": "python",
   "name": "python3"
  },
  "language_info": {
   "codemirror_mode": {
    "name": "ipython",
    "version": 3
   },
   "file_extension": ".py",
   "mimetype": "text/x-python",
   "name": "python",
   "nbconvert_exporter": "python",
   "pygments_lexer": "ipython3",
   "version": "3.9.12"
  }
 },
 "nbformat": 4,
 "nbformat_minor": 5
}
