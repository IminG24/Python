{
 "cells": [
  {
   "cell_type": "markdown",
   "id": "31478828",
   "metadata": {},
   "source": [
    "1. In Python, what is the difference between a built-in function and a user-defined function? Provide an example of each.\n",
    "\n",
    "A: Build in functions are readily available functions ny python, hwereas user-defined functions are created by programmer based on the requirement of the task."
   ]
  },
  {
   "cell_type": "code",
   "execution_count": 10,
   "id": "d13a55c6",
   "metadata": {},
   "outputs": [
    {
     "name": "stdout",
     "output_type": "stream",
     "text": [
      "5\n",
      "3\n"
     ]
    }
   ],
   "source": [
    "#buildin function\n",
    "a= [1,'a',34,'b',23]\n",
    "print(len(a)) #here len is a builtin function for finding the length of the list\n",
    "\n",
    "#user-defined function\n",
    "# A simple user-defined function that adds two numbers.\n",
    "def add_numbers(a, b):\n",
    "    return a + b\n",
    "\n",
    "result = add_numbers(1, 2)\n",
    "print(result)"
   ]
  },
  {
   "cell_type": "markdown",
   "id": "5c0dd59c",
   "metadata": {},
   "source": [
    "2. How can you pass arguments to a function in Python? Explain the difference between positional arguments and keyword arguments.\n",
    "\n",
    "A:  \n",
    "\n",
    "During functional call, the arguments can be passed in the parentheses of a function.\n",
    "Positional arguments are passed to a function based on their position or order. The values are assigned to the function's parameters in the order they are passed.\n",
    "Keyword arguments are passed to a function using the name of the parameter as a keyword along with the corresponding value. The order of the arguments does not matter when using keyword arguments."
   ]
  },
  {
   "cell_type": "code",
   "execution_count": 8,
   "id": "a42e76c0",
   "metadata": {},
   "outputs": [
    {
     "name": "stdout",
     "output_type": "stream",
     "text": [
      "Hello, you have cooked kimbap with 8 ingredients.\n",
      "Hello, you have cooked kimbap with 8 ingredients.\n"
     ]
    }
   ],
   "source": [
    "def cook(name, ingredientscount):\n",
    "    print(\"Hello, you have cooked \" + name + \" with \" + str(ingredientscount) + \" ingredients.\")\n",
    "\n",
    "cook(\"kimbap\", 8) #positional arguments\n",
    "\n",
    "def cook(name, ingredientscount):\n",
    "    print(\"Hello, you have cooked \" + name + \" with \" + str(ingredientscount) + \" ingredients.\")\n",
    "\n",
    "cook(name=\"kimbap\",ingredientscount=8) #keyword arguments"
   ]
  },
  {
   "cell_type": "markdown",
   "id": "bc07f98b",
   "metadata": {},
   "source": [
    "3. What is the purpose of the return statement in a function? Can a function have multiple return statements? Explain with an example.\n",
    "\n",
    "A: The return statement in a function is used to specify the value or values that the function should return when called.\n",
    "A function can have multiple return statements, but only one will be executed, terminating the function and returning the specified value."
   ]
  },
  {
   "cell_type": "code",
   "execution_count": 11,
   "id": "290727eb",
   "metadata": {},
   "outputs": [
    {
     "name": "stdout",
     "output_type": "stream",
     "text": [
      "Odd\n"
     ]
    }
   ],
   "source": [
    "def check_even_odd(num):\n",
    "    if num % 2 == 0:\n",
    "        return \"Even\"\n",
    "    else:\n",
    "        return \"Odd\"\n",
    "\n",
    "result = check_even_odd(7)\n",
    "print(result)  # Output: Odd"
   ]
  },
  {
   "cell_type": "markdown",
   "id": "07004f1a",
   "metadata": {},
   "source": [
    "4. What are lambda functions in Python? How are they different from regular functions? Provide an example where a lambda function can be useful.\n",
    "\n",
    "A: \n",
    "Lambda functions, also known as anonymous functions, are small, single-expression functions without a name. They are defined using the lambda keyword and are typically used when a small function is required for a specific purpose."
   ]
  },
  {
   "cell_type": "code",
   "execution_count": 12,
   "id": "820065cd",
   "metadata": {},
   "outputs": [
    {
     "name": "stdout",
     "output_type": "stream",
     "text": [
      "25\n"
     ]
    }
   ],
   "source": [
    "square = lambda x: x ** 2\n",
    "result = square(5)\n",
    "print(result)  # Output: 25"
   ]
  },
  {
   "cell_type": "markdown",
   "id": "c7d81605",
   "metadata": {},
   "source": [
    "5. How does the concept of \"scope\" apply to functions in Python? Explain the difference between local scope and global scope.\n",
    "\n",
    "A: \n",
    "Scope refers to the accessibility of the variables within the program.\n",
    "local scope: defined inside the function and also accessible inside that function only\n",
    "global scope: variables defined outside of the function and accessed anywhere in the program"
   ]
  },
  {
   "cell_type": "code",
   "execution_count": 16,
   "id": "f1160492",
   "metadata": {},
   "outputs": [
    {
     "name": "stdout",
     "output_type": "stream",
     "text": [
      "1435345340\n",
      "454564564\n",
      "454564564\n"
     ]
    }
   ],
   "source": [
    "def my_function():\n",
    "    x = 1435345340  # Local variable\n",
    "    print(x)  \n",
    "my_function()\n",
    "\n",
    "# print(x)  # Raises a NameError as x is not accessible outside the function\n",
    "\n",
    "y = 454564564  # Global variable\n",
    "\n",
    "def my_function():\n",
    "    print(y)  \n",
    "\n",
    "my_function()\n",
    "print(y)  # Accessible outside the function"
   ]
  },
  {
   "cell_type": "markdown",
   "id": "7609fd27",
   "metadata": {},
   "source": [
    "6. How can you use the \"return\" statement in a Python function to return multiple values?\n",
    "\n",
    "A: \n",
    "  To return multiple values, you can separate the values using commas in the return statement. The values will be returned as a tuple, and can unpack the returned tuple into separate variables.  "
   ]
  },
  {
   "cell_type": "code",
   "execution_count": 17,
   "id": "a18f953b",
   "metadata": {},
   "outputs": [
    {
     "name": "stdout",
     "output_type": "stream",
     "text": [
      "riya\n",
      "100\n"
     ]
    }
   ],
   "source": [
    "def get_name_and_age():\n",
    "    name = \"riya\"\n",
    "    age = 100\n",
    "    return name, age\n",
    "\n",
    "name, age = get_name_and_age()\n",
    "print(name)  \n",
    "print(age) "
   ]
  },
  {
   "cell_type": "markdown",
   "id": "96edb8d7",
   "metadata": {},
   "source": [
    " 7. What is the difference between the \"pass by value\" and \"pass by reference\" concepts when it comes to function arguments in Python?\n",
    " A:\n",
    " In Python, the concepts of \"pass by value\" and \"pass by reference\" are not applicable in the same way as in some other programming languages. Instead, Python uses a combination of both concepts based on the type of the object being passed as an argument to a function.\n",
    " 1. Immutable objects such as numbers, strings, and tuples cannot be modified once they are created. When you pass an immutable object as an argument to a function, a new copy of the object is created. Any modifications made to the object within the function do not affect the original object outside the function.\n",
    " 2. Mutable objects such as lists, dictionaries, and user-defined objects can be modified. When you pass a mutable object as an argument to a function, the reference to the original object is passed. Any modifications made to the object within the function directly affect the original object."
   ]
  },
  {
   "cell_type": "code",
   "execution_count": 18,
   "id": "f5e6d358",
   "metadata": {},
   "outputs": [
    {
     "name": "stdout",
     "output_type": "stream",
     "text": [
      "Inside function: 15\n",
      "Outside function: 5\n",
      "Inside function: [1, 2, 3, 4]\n",
      "Outside function: [1, 2, 3, 4]\n"
     ]
    }
   ],
   "source": [
    "def modify_value(num):\n",
    "    num += 10\n",
    "    print(\"Inside function:\", num)\n",
    "\n",
    "value = 5\n",
    "modify_value(value)\n",
    "print(\"Outside function:\", value)\n",
    "\n",
    "def modify_list(my_list):\n",
    "    my_list.append(4)\n",
    "    print(\"Inside function:\", my_list)\n",
    "\n",
    "my_list = [1, 2, 3]\n",
    "modify_list(my_list)\n",
    "print(\"Outside function:\", my_list)"
   ]
  },
  {
   "cell_type": "markdown",
   "id": "0e9b4a74",
   "metadata": {},
   "source": [
    "8. Create a function that can intake integer or decimal value and do following operations:"
   ]
  },
  {
   "cell_type": "code",
   "execution_count": 19,
   "id": "46df9190",
   "metadata": {},
   "outputs": [
    {
     "name": "stdout",
     "output_type": "stream",
     "text": [
      "Enter a no to find log: 10\n",
      "Enter the base of the log: 10\n",
      "Log of the no  10.0  is:  1.0\n"
     ]
    }
   ],
   "source": [
    "# # Logarithmic function (log x)\n",
    "import math\n",
    "\n",
    "def logs():\n",
    "    x = float(input('Enter a no to find log: '))\n",
    "    y= float(input('Enter the base of the log: '))\n",
    "    \n",
    "    result = math.log(x,y)\n",
    "    print(\"Log of the no \", x, \" is: \", result)\n",
    "logs()"
   ]
  },
  {
   "cell_type": "code",
   "execution_count": 20,
   "id": "dc52e10a",
   "metadata": {},
   "outputs": [
    {
     "name": "stdout",
     "output_type": "stream",
     "text": [
      "Enter a no to find EXP: 3\n",
      "Exponent of the no  3.0  is:  20.085536923187668\n"
     ]
    }
   ],
   "source": [
    "# Exponential function (exp(x))\n",
    "\n",
    "def expo():\n",
    "    x = float(input('Enter a no to find EXP: '))\n",
    "    \n",
    "    result = math.exp(x)\n",
    "    print(\"Exponent of the no \", x, \" is: \", result)\n",
    "expo()"
   ]
  },
  {
   "cell_type": "code",
   "execution_count": 21,
   "id": "2852bc21",
   "metadata": {},
   "outputs": [
    {
     "name": "stdout",
     "output_type": "stream",
     "text": [
      "Enter a no to find EXP: 9\n",
      "2 to the power  9.0  is:  512.0\n"
     ]
    }
   ],
   "source": [
    "# Power function with base 2 (2^x)\n",
    "\n",
    "def power_function():\n",
    "    x = float(input('Enter a no to find EXP: '))\n",
    "    \n",
    "    result = 2 ** x\n",
    "    print(\"2 to the power \", x, \" is: \", result)\n",
    "power_function()"
   ]
  },
  {
   "cell_type": "code",
   "execution_count": 22,
   "id": "80efe48d",
   "metadata": {},
   "outputs": [
    {
     "name": "stdout",
     "output_type": "stream",
     "text": [
      "Enter the no to find Sq Root: 16\n",
      "Square root of the no given by you:  4.0\n"
     ]
    }
   ],
   "source": [
    "# find square root of a no\n",
    "\n",
    "def square_root(num = int(input(\"Enter the no to find Sq Root: \"))):\n",
    "    sq_root = math.sqrt(num)\n",
    "    print(\"Square root of the no given by you: \", sq_root)\n",
    "square_root()"
   ]
  },
  {
   "cell_type": "markdown",
   "id": "a315a5cd",
   "metadata": {},
   "source": [
    "9. Create a function that takes a full name as an argument and returns first name and last name."
   ]
  },
  {
   "cell_type": "code",
   "execution_count": 23,
   "id": "046a66ae",
   "metadata": {},
   "outputs": [
    {
     "name": "stdout",
     "output_type": "stream",
     "text": [
      "Enter your full name: rajana priyanka\n",
      "Your First Name is:  rajana\n",
      "Your Last Name is:  priyanka\n"
     ]
    }
   ],
   "source": [
    "def full_name():\n",
    "    name = str(input(\"Enter your full name: \"))\n",
    "    result = name.split()\n",
    "    \n",
    "    print(\"Your First Name is: \", result[0])\n",
    "    print(\"Your Last Name is: \", result[-1])\n",
    "full_name()"
   ]
  }
 ],
 "metadata": {
  "kernelspec": {
   "display_name": "Python 3 (ipykernel)",
   "language": "python",
   "name": "python3"
  },
  "language_info": {
   "codemirror_mode": {
    "name": "ipython",
    "version": 3
   },
   "file_extension": ".py",
   "mimetype": "text/x-python",
   "name": "python",
   "nbconvert_exporter": "python",
   "pygments_lexer": "ipython3",
   "version": "3.9.12"
  }
 },
 "nbformat": 4,
 "nbformat_minor": 5
}
